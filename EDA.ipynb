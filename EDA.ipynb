{
 "cells": [
  {
   "attachments": {},
   "cell_type": "markdown",
   "metadata": {},
   "source": [
    "# EDA"
   ]
  },
  {
   "attachments": {},
   "cell_type": "markdown",
   "metadata": {},
   "source": [
    "This notebook contains an EDA of King County Housing Data.\n",
    "\n",
    "We focus on the specific needs of our client, the __Buyer Larry Sanders__, which have been documented as follows: \n",
    "\n",
    "Waterfront, limited budget, nice & isolated but central neighborhood without kids (but got some of his own, just doesn't want his kids to play with other kids .. because of germs)\n"
   ]
  },
  {
   "attachments": {},
   "cell_type": "markdown",
   "metadata": {},
   "source": [
    "## Set up\n",
    "\n",
    "### Import necessary libraries"
   ]
  },
  {
   "cell_type": "code",
   "execution_count": null,
   "metadata": {},
   "outputs": [],
   "source": [
    "#import necessary libraries\n",
    "#import warnings\n",
    "#warnings.filterwarnings(\"ignore\")\n",
    "\n",
    "import pandas as pd\n",
    "import numpy as np\n",
    "import matplotlib.pyplot as plt\n",
    "import plotly.express as px\n",
    "import seaborn as sns\n",
    "import missingno as msno\n",
    "\n",
    "sns.set()\n",
    "\n",
    "# from matplotlib.ticker import PercentFormatter\n",
    "# plt.rcParams.update({ \"figure.figsize\" : (8, 5),\"axes.facecolor\" : \"white\", \"axes.edgecolor\":  \"black\"})\n",
    "# plt.rcParams[\"figure.facecolor\"]= \"w\"\n",
    "# pd.plotting.register_matplotlib_converters()\n",
    "\n",
    "#round all floats to 3 decimals\n",
    "pd.set_option('display.float_format', lambda x: '%.3f' % x)"
   ]
  },
  {
   "attachments": {},
   "cell_type": "markdown",
   "metadata": {},
   "source": [
    "### Importing the Data\n",
    "\n",
    "We were provided the data and import it directly from the data folder. However, it can also be found on [kaggle](https://www.kaggle.com/datasets/harlfoxem/housesalesprediction).\n",
    "We assign the data to a DataFrame called df_housing."
   ]
  },
  {
   "cell_type": "code",
   "execution_count": null,
   "metadata": {},
   "outputs": [],
   "source": [
    "#loading data into DataFrame\n",
    "df_housing = pd.read_csv('data/King_County_House_prices_dataset.csv')\n",
    "\n",
    "# # as column 'condition' is truncated in the display, disable column truncation\n",
    "# pd.set_option('display.max_columns', None) \n",
    "# pd.set_option('display.width', None) \n",
    "# pd.set_option('display.max_colwidth', -1)"
   ]
  },
  {
   "attachments": {},
   "cell_type": "markdown",
   "metadata": {},
   "source": [
    "## Examining the Data"
   ]
  },
  {
   "attachments": {},
   "cell_type": "markdown",
   "metadata": {},
   "source": [
    "Let's first take a look at the data provided. \n",
    "\n",
    "We take a look at the first 10 entries, thereby also noting the column headers and some first impression on indexing and the format of the observations."
   ]
  },
  {
   "cell_type": "code",
   "execution_count": null,
   "metadata": {},
   "outputs": [],
   "source": [
    "#examining the data\n",
    "df_housing.head(10)"
   ]
  },
  {
   "attachments": {},
   "cell_type": "markdown",
   "metadata": {},
   "source": [
    "We check for duplicates among the observations that would have to be removed to avoid unequal influences of the observations in our analysis to come. We notice that there are no duplicates."
   ]
  },
  {
   "cell_type": "code",
   "execution_count": null,
   "metadata": {},
   "outputs": [],
   "source": [
    "# Check for duplicates - no duplicates!\n",
    "df_housing.duplicated().value_counts()"
   ]
  },
  {
   "cell_type": "code",
   "execution_count": null,
   "metadata": {},
   "outputs": [],
   "source": [
    "df_housing.id.nunique()"
   ]
  },
  {
   "cell_type": "code",
   "execution_count": null,
   "metadata": {},
   "outputs": [],
   "source": [
    "df_housing.groupby('id').count().query('price>1')"
   ]
  },
  {
   "cell_type": "code",
   "execution_count": null,
   "metadata": {},
   "outputs": [],
   "source": [
    "df_housing.query('id==1000102')"
   ]
  },
  {
   "attachments": {},
   "cell_type": "markdown",
   "metadata": {},
   "source": [
    "Let's find out how many observations and characteristics/columns we are dealing with."
   ]
  },
  {
   "cell_type": "code",
   "execution_count": null,
   "metadata": {},
   "outputs": [],
   "source": [
    "df_housing.shape"
   ]
  },
  {
   "attachments": {},
   "cell_type": "markdown",
   "metadata": {},
   "source": [
    "There are 21597 observations and 21 columns.\n",
    "\n",
    "How are the observations indexed?"
   ]
  },
  {
   "cell_type": "code",
   "execution_count": null,
   "metadata": {},
   "outputs": [],
   "source": [
    "# how is the data indexed?\n",
    "# standard numerical indexes starting at 0 with step=1, last index = 21596\n",
    "df_housing.index"
   ]
  },
  {
   "attachments": {},
   "cell_type": "markdown",
   "metadata": {},
   "source": [
    "The observations are indexed by integers, starting at 0 with step 1, the last entry is 21596.\n",
    "\n",
    "What are the column names, what are the data types of the columns and do the columns contain missing values?"
   ]
  },
  {
   "cell_type": "code",
   "execution_count": null,
   "metadata": {},
   "outputs": [],
   "source": [
    "df_housing.info()\n",
    "#21597 entries, 21 columns\n",
    "# there are NaN entries"
   ]
  },
  {
   "attachments": {},
   "cell_type": "markdown",
   "metadata": {},
   "source": [
    "We take a first look at statistical information on our data."
   ]
  },
  {
   "cell_type": "code",
   "execution_count": null,
   "metadata": {},
   "outputs": [],
   "source": [
    "df_housing.describe()"
   ]
  },
  {
   "attachments": {},
   "cell_type": "markdown",
   "metadata": {},
   "source": [
    "### First Observations/Questions\n",
    "\n",
    "1. There is an outlier 33 in the bedrooms column.\n",
    "1. There might be an outlier 8 in the bathrooms column.\n",
    "1. There might be an outlier 13540 in sqft_living.\n",
    "1. What is the grading system?\n",
    "1. what does 'view' mean?\n",
    "1. How is the condition rated?\n",
    "2. Missing values in the waterfront, view, yr_renovated columns\n",
    "1. sqft_basement has non-numerical entries (e.g. ?)\n",
    "5. The date column is in string format and needs to be changed to datetime\n",
    "8. df.describe is to be used with caution as it doesn't work with missing data (NaN)\n",
    "1. column names are already in Snake Case and meaningful, no renaming necessary\n",
    "1. What are half floors?\n",
    "1. What are .25 bathrooms?"
   ]
  },
  {
   "attachments": {},
   "cell_type": "markdown",
   "metadata": {},
   "source": [
    "Researching for King County building standards and information on the data provided yields answers to some of the questions:\n",
    "https://info.kingcounty.gov/assessor/esales/Glossary.aspx\n",
    "https://www.kaggle.com/datasets/harlfoxem/housesalesprediction/discussion/207885\n",
    "\n",
    "* \"grade\": An index from 1 to 13, where 1-3 falls short of building construction and design, 7 has an average level of construction and design, and 11-13 have a high quality level of construction and design.\n",
    "* \"view\": Overall view quality, varying from 0 to 4. 0 = No view, 1 = Fair 2 = Average, 3 = Good, 4 = Excellent\n",
    "* \"condition\": An index from 1 to 5 on the condition of the apartment.\n",
    "* \"floor\" denotes the floor location on which the unit is located. This is possible on half floor levels.\n",
    "* \"bathrooms\": A full bath contains at least one sink, one toilet, a shower and a bath. A 0.75 bathroom has either a shower or a bath. A 0.25 bathroom only contains a toilet, etc."
   ]
  },
  {
   "attachments": {},
   "cell_type": "markdown",
   "metadata": {},
   "source": [
    "## Data Cleaning"
   ]
  },
  {
   "attachments": {},
   "cell_type": "markdown",
   "metadata": {},
   "source": [
    "### Looking at Outliers\n",
    "\n",
    "We will now take a closer look at the outliers to decide how to treat them. \n",
    "We start with \"33 bedrooms\"."
   ]
  },
  {
   "cell_type": "code",
   "execution_count": null,
   "metadata": {},
   "outputs": [],
   "source": [
    "#look at outlier bedrooms\n",
    "df_housing.query(\"bedrooms==33\")\n",
    "#conclusion: does not match size of house, faulty data, line should be removed\n",
    "# remove either via index df_housing.query(\"bedrooms==33\").index or via combining with query command"
   ]
  },
  {
   "attachments": {},
   "cell_type": "markdown",
   "metadata": {},
   "source": [
    "Within the observation of the outlier \"33 bedrooms\", the number of bedrooms does not match the other characteristics of the observation, e.g. size of the house or number of bathrooms. Hence, we treat it as faulty data and decide that the line should be removed."
   ]
  },
  {
   "cell_type": "code",
   "execution_count": null,
   "metadata": {},
   "outputs": [],
   "source": [
    "#remove line with 33 bedrooms\n",
    "df_housing.drop(df_housing.query(\"bedrooms==33\").index, inplace=True)\n",
    "# reset index inplace\n",
    "df_housing.reset_index(inplace=True, drop=True)"
   ]
  },
  {
   "cell_type": "code",
   "execution_count": null,
   "metadata": {},
   "outputs": [],
   "source": [
    "# check if successfully removed\n",
    "df_housing.shape"
   ]
  },
  {
   "cell_type": "code",
   "execution_count": null,
   "metadata": {},
   "outputs": [],
   "source": [
    "df_housing.describe()"
   ]
  },
  {
   "attachments": {},
   "cell_type": "markdown",
   "metadata": {},
   "source": [
    "We will now look at the observations with at least 7 bedrooms. Do they appear to be correct data?"
   ]
  },
  {
   "cell_type": "code",
   "execution_count": null,
   "metadata": {},
   "outputs": [],
   "source": [
    "#look at outlier bedrooms\n",
    "df_housing.query(\"bedrooms>=7\").describe()\n",
    "# nothing suspicious, data remains. \n",
    "# House with 7 bedrooms, 1 bathroom: fits sqft_living, data remains since possibly faulty bathroom characteristic not relevant to client"
   ]
  },
  {
   "attachments": {},
   "cell_type": "markdown",
   "metadata": {},
   "source": [
    "What springs to our attention is the house with 7 bedrooms, yet 1 bathroom only. We take a closer look and notice that the large amount of bedrooms fits other criteria, such as sqft_living. The data remains in our dataset since the possibly faulty bathroom characteristic is not relevant to our client. Overall, the data with at least 7 bedrooms does not seem suspicious. The same holds for \"sqft_living=13540\"."
   ]
  },
  {
   "cell_type": "code",
   "execution_count": null,
   "metadata": {},
   "outputs": [],
   "source": [
    "df_housing.query(\"bedrooms==7 and bathrooms==1\")\n",
    "# bedrooms fit sqft_living, data remains"
   ]
  },
  {
   "cell_type": "code",
   "execution_count": null,
   "metadata": {},
   "outputs": [],
   "source": [
    "#look at outlier bathrooms\n",
    "df_housing.query(\"bathrooms==8\")\n",
    "#conclusion: matches large number of bedrooms and very high price, data should remain in the data set"
   ]
  },
  {
   "cell_type": "code",
   "execution_count": null,
   "metadata": {},
   "outputs": [],
   "source": [
    "#look at outlier sqft_living\n",
    "df_housing.query(\"sqft_living==13540\")\n",
    "#conclusion: matches large number of bedrooms, bathrooms and very high price, data should remain in the data set"
   ]
  },
  {
   "attachments": {},
   "cell_type": "markdown",
   "metadata": {},
   "source": [
    "### Data Types and Transforming Data\n",
    "\n",
    "We can transform the data type in our date column to datetime format.\n",
    "\n",
    "Since yr_built and yr_renovated are not of relevance to our client, we do not need to work on them. Changing the format of the latter would be more complicated because of missing values, hence, we refrain from changing the format."
   ]
  },
  {
   "cell_type": "code",
   "execution_count": null,
   "metadata": {},
   "outputs": [],
   "source": [
    "# change \"date\" dtype to datetime with format %Y/%m/%d\n",
    "df_housing['date'] = pd.to_datetime(df_housing['date'], format='%m/%d/%Y')"
   ]
  },
  {
   "attachments": {},
   "cell_type": "markdown",
   "metadata": {},
   "source": [
    "We can now easily sort the date column and learn that the data contains the sales from May 2014 to May 2015."
   ]
  },
  {
   "cell_type": "code",
   "execution_count": null,
   "metadata": {},
   "outputs": [],
   "source": [
    "df_housing.sort_values('date')"
   ]
  },
  {
   "cell_type": "code",
   "execution_count": null,
   "metadata": {},
   "outputs": [],
   "source": [
    "# change \"yr_built\" dtype to datetime with format %Y\n",
    "# df_housing['yr_built'] = pd.to_datetime(df_housing['yr_built'], format='%Y')"
   ]
  },
  {
   "cell_type": "code",
   "execution_count": null,
   "metadata": {},
   "outputs": [],
   "source": [
    "# not relevant for Larry! Since more complicated because of missing values, refrain from changing the format.\n",
    "# how to convert yr_renovated? wrong format 0, NaN\n",
    "# change \"yr_renovated\" dtype to datetime with format %Y\n",
    "#df_housing['yr_renovated'] = pd.to_datetime(df_housing['yr_renovated'], format='%Y')"
   ]
  },
  {
   "cell_type": "code",
   "execution_count": null,
   "metadata": {},
   "outputs": [],
   "source": [
    "# Take a new look\n",
    "df_housing.head()"
   ]
  },
  {
   "attachments": {},
   "cell_type": "markdown",
   "metadata": {},
   "source": [
    "The column sqft_basement contains string objects, we expect/want floats. We can try and convert the datatype in order to get information from the error message. It tells us that the column contains \"?\" as non-convertible entry. We take a look at the rows with \"?\" entry and can then change the entry to NaN. Afterwards, the data type of the column can be changed to float."
   ]
  },
  {
   "cell_type": "code",
   "execution_count": null,
   "metadata": {},
   "outputs": [],
   "source": [
    "# # sqft_basement contains string objects, we want floats.\n",
    "# # try to convert it to get error message:\n",
    "# # not relevant for Larry\n",
    "# df_housing = df_housing.astype({'sqft_basement': float})\n",
    "# # we get '?' as non-convertible entry"
   ]
  },
  {
   "cell_type": "code",
   "execution_count": null,
   "metadata": {},
   "outputs": [],
   "source": [
    "#look at rows with '?' entry in sqft_basement column\n",
    "df_housing.query('sqft_basement == \"?\"')"
   ]
  },
  {
   "cell_type": "code",
   "execution_count": null,
   "metadata": {},
   "outputs": [],
   "source": [
    "#replace the `?`-character with a numpy NaN value\n",
    "df_housing['sqft_basement'] = df_housing.sqft_basement.replace('?',np.NaN)\n",
    "# change data type to float\n",
    "df_housing = df_housing.astype({'sqft_basement': float})\n",
    "df_housing.sqft_basement.dtypes"
   ]
  },
  {
   "attachments": {},
   "cell_type": "markdown",
   "metadata": {},
   "source": [
    "### Missing Values \n",
    "\n",
    "Let us take another look at the information summary, this time focusing on the missing values."
   ]
  },
  {
   "cell_type": "code",
   "execution_count": null,
   "metadata": {},
   "outputs": [],
   "source": [
    "df_housing.info()"
   ]
  },
  {
   "cell_type": "code",
   "execution_count": null,
   "metadata": {},
   "outputs": [],
   "source": [
    "# looking at missing values\n",
    "# display number of missing values per column\n",
    "df_housing.isna().sum()\n",
    "# Only waterfront is relevant for Larry's wishes. \n",
    "# It is reasonable to assume that for the houses with NaN, \n",
    "# it is not known whether they are located at the waterfront.\n",
    "# the missing values cannot be imputed.\n",
    "# the other columns can be deleted, no imputation necessary."
   ]
  },
  {
   "cell_type": "code",
   "execution_count": null,
   "metadata": {},
   "outputs": [],
   "source": [
    "print(f\"numbers of rows : {df_housing.shape[0]}\")\n",
    "print(f\"missing values in waterfront : {round(df_housing.waterfront.isna().sum()/df_housing.shape[0]*100,2)} %\")\n",
    "print(f\"missing values in view : {round(df_housing.view.isna().sum()/df_housing.shape[0]*100,2)} %\")\n",
    "print(f\"missing values in sqft_basement : {round(df_housing.sqft_basement.isna().sum()/df_housing.shape[0]*100,2)} %\")\n",
    "print(f\"missing values in yr_renovated : {round(df_housing.yr_renovated.isna().sum()/df_housing.shape[0]*100,2)} %\")\n",
    "\n",
    "print(f\"missing values in data frame : {round(df_housing.isna().sum().sum()/(df_housing.shape[0]*df_housing.shape[1])*100,2)} %\")\n",
    "# .sum() twice in last row: first gives a series of the number of nan-values per column, \n",
    "# the second sums these up"
   ]
  },
  {
   "attachments": {},
   "cell_type": "markdown",
   "metadata": {},
   "source": [
    "After we deleted a row earlier, we still have 21596 observations. Of these observations, \n",
    "\n",
    "* 11 % have missing values in waterfront\n",
    "* 0.29 % have missing values in view\n",
    "* 2.1 % have missing values in sqft_basement\n",
    "* 17.79 % have missing values in yr_renovated\n",
    "\n",
    "In total, only 1.49 % of the data in our DataFrame is missing.\n",
    "\n",
    "It is reasonable to assume that the missing data was not available for the houses. \n",
    "\n",
    "The only characteristic with missing values relevant for our client is \"waterfront\". Since a house is either located at the waterfront or not and the location of other houses does not imply whether even very closely located houses are waterfront houses, we cannot impute the information. \n",
    "\n",
    "The other missing values are not of relevance to our further investigation.\n",
    "\n",
    "Hence, we will keep the missing values as they are. "
   ]
  },
  {
   "cell_type": "code",
   "execution_count": null,
   "metadata": {},
   "outputs": [],
   "source": [
    "# plotting percentage of missing values per column\n",
    "# msno.bar(df_housing)"
   ]
  },
  {
   "cell_type": "code",
   "execution_count": null,
   "metadata": {},
   "outputs": [],
   "source": [
    "# msno.matrix(df_housing)"
   ]
  },
  {
   "attachments": {},
   "cell_type": "markdown",
   "metadata": {},
   "source": [
    "## Research Questions and Hypothesis Generation\n",
    "\n",
    "### Questions with belonging hypotheses and their indicators:\n",
    "\n",
    "* Does the location of a house affect the price?\n",
    "    1. If a house is located close to water, then the price is higher (waterfront(yes/no)) \n",
    "    1. The more central a house is, the higher the price (location)\n",
    "\n",
    "* Does the size of a house affect the price?\n",
    "    1. The more bedrooms a house has, the higher the price (bedrooms)\n",
    "    1. The higher the square footage of the house, the higher the price (sqft_liviing)\n",
    "\n",
    "* Does the size of the lot affect the price?\n",
    "    1. The larger the lot, the higher the price (sqft_lot)\n",
    "\n",
    "* Does the state the house is in affect the price?\n",
    "    1. The better the overall condition of the house, the higher the price (condition)\n",
    "    1. The better the grade, the higher the price (grade)\n"
   ]
  },
  {
   "attachments": {},
   "cell_type": "markdown",
   "metadata": {},
   "source": [
    "### Questions relevant for Client\n",
    "\n",
    "Client: Larry Sanders, Buyer.\n",
    "Characteristics: Waterfront , limited budget, nice & isolated but central neighborhood without kids (but got some of his own, just doesn't want his kids to play with other kids .. because of germs)\n",
    "\n",
    "How should we parametrize Larry's wishes? While some criteria, like the wish for waterfront housing, are self evident, others are not. The \"nice house\" criterion could be parametrized by \"condition\" and \"grade\". Before we decide on a limit, let us take a look at their distribution:"
   ]
  },
  {
   "cell_type": "code",
   "execution_count": null,
   "metadata": {},
   "outputs": [],
   "source": [
    "sns.histplot(data=df_housing, \n",
    "                x='condition', \n",
    "                palette=[\"cadetblue\"],\n",
    "                ).set_title('Condition of the Houses')\n",
    "plt.xlabel('Condition')\n",
    "plt.show();"
   ]
  },
  {
   "cell_type": "code",
   "execution_count": null,
   "metadata": {},
   "outputs": [],
   "source": [
    "sns.histplot(data=df_housing, \n",
    "                x='grade', \n",
    "                palette=[\"cadetblue\"],\n",
    "                ).set_title('Grade of the Houses')\n",
    "plt.xlabel('Grade')\n",
    "plt.show();"
   ]
  },
  {
   "attachments": {},
   "cell_type": "markdown",
   "metadata": {},
   "source": [
    "Based on the above computations of the median for \"grade\" and \"condition\" and our view of the distribution of these values, we decide on the following parametrization."
   ]
  },
  {
   "attachments": {},
   "cell_type": "markdown",
   "metadata": {},
   "source": [
    "Our Assumptions:\n",
    "\n",
    "- Waterfront - evident by yes/no attribute\n",
    "- Limited budget - price not above median\n",
    "- Nice house - condition 3 and up, grade 7 and up ( = median)\n",
    "- Isolated house - sufficiently large lot size, sufficiently large lot size of the 15 nearest neighbors. Above median\n",
    "- Central neighborhood - Top 15 zip codes with the highest population density\n",
    "- Neighborhood without kids - zip codes with at most 2 schools\n",
    "- Has children - at least 2 bedrooms\n",
    "\n",
    "What springs to mind: Are there any houses that meet all the criteria?\n",
    "\n",
    "* Room for kids: Does the size of a house affect the price?\n",
    "    1. The more bedrooms a house has, the higher the price (bedrooms)\n",
    "\n",
    "* Nice house: Does the state the house is in affect the price?\n",
    "    1. The better the overall condition of the house, the higher the price (condition)\n",
    "    1. The better the grade, the higher the price (grade)\n",
    "\n",
    "* Waterfront, central: Does the location of a house affect the price?\n",
    "    1. The more central a house is, the higher the price (location, zip code)\n",
    "    1. If a house is located at the waterfront, then the price is higher (waterfront(yes/no)) \n",
    "\n",
    "* Does the size of the lot affect the price?\n",
    "    1. The larger the lot, the higher the price. (sqft_lot)"
   ]
  },
  {
   "attachments": {},
   "cell_type": "markdown",
   "metadata": {},
   "source": [
    "### categorical data:\n",
    "\n",
    "- id\n",
    "- date\n",
    "- bedrooms\n",
    "- bathrooms\n",
    "- sqft_living\n",
    "- sqft_lot\n",
    "- floors\n",
    "- waterfront\n",
    "- view\n",
    "- condition\n",
    "- grade\n",
    "- yr_built\n",
    "- yr_renovated\n",
    "- zipcode\n",
    "\n",
    "### continuous data:\n",
    "\n",
    "- price\n",
    "- sqft_above\n",
    "- sqft_basement\n",
    "- lat\n",
    "- long\n",
    "- sqft_living15\n",
    "- sqft_lot15"
   ]
  },
  {
   "attachments": {},
   "cell_type": "markdown",
   "metadata": {},
   "source": [
    "### Hypothesis: Houses located at the waterfront have a higher price\n",
    "\n",
    "Let us look at the characteristics \"waterfront\" and \"price\"."
   ]
  },
  {
   "cell_type": "code",
   "execution_count": null,
   "metadata": {},
   "outputs": [],
   "source": [
    "counts_waterfront = df_housing.waterfront.value_counts(dropna=False)\n",
    "\n",
    "#df_housing.groupby(\"waterfront\", dropna=False).count()\n",
    "\n",
    "#plt.hist(df_housing.waterfront.replace(np.nan, \"unknown\"))\n",
    "#plt.show()"
   ]
  },
  {
   "cell_type": "code",
   "execution_count": null,
   "metadata": {},
   "outputs": [],
   "source": [
    "df_waterfront = pd.DataFrame(counts_waterfront).reset_index()\n",
    "df_waterfront.columns = ['waterfront', 'count']\n",
    "df_waterfront.waterfront = ['no', 'unknown', 'yes']\n",
    "df_waterfront"
   ]
  },
  {
   "cell_type": "code",
   "execution_count": null,
   "metadata": {},
   "outputs": [],
   "source": [
    "# fig, ax1 = plt.subplots()#figsize =(10,6))\n",
    "# sns.barplot(data=df_waterfront, x='waterfront', y='count', color='cadetblue')\n",
    "\n",
    "# fig.suptitle(\"Distribution Waterfront\", fontsize = 20)\n",
    "# plt.subplots_adjust(top=0.90)\n",
    "# ax1.set_xlabel(\"Waterfront\", labelpad = 15, fontsize=12)\n",
    "# ax1.set_ylabel(\"Count\", labelpad = 15, fontsize=12)\n",
    "# ax1.bar_label(ax1.containers[0]);"
   ]
  },
  {
   "cell_type": "code",
   "execution_count": null,
   "metadata": {},
   "outputs": [],
   "source": [
    "fig = px.bar(df_waterfront, \n",
    "             x='waterfront', \n",
    "             y='count', \n",
    "             title=\"Waterfront?\", \n",
    "             text='count',\n",
    "             width=400, height=400)\n",
    "\n",
    "# , color='cadetblue'\n",
    "fig.update_layout(\n",
    "     xaxis_title=\"\", \n",
    "     yaxis_title=\"Count\",\n",
    "     font_family=\"Average\",\n",
    "     font_color=\"dimgray\",\n",
    "     font_size=20,\n",
    "     title_font_family=\"Average\",\n",
    "     title_font_size=25,\n",
    "     margin=dict(l=75, r=45, t=50, b=45),\n",
    "#     paper_bgcolor=\"white\",\n",
    "     plot_bgcolor=\"white\"\n",
    ")\n",
    "# texttemplate can be configured with rounding etc., e.g. '%{text:.2s}'\n",
    "fig.update_traces(texttemplate='%{text}',marker=dict(color=\"cadetblue\"),selector=dict(type=\"bar\"))\n",
    "fig.update_yaxes(showline=True, linecolor='dimgrey')\n",
    "fig.update_xaxes(showline=True, linecolor='dimgrey')\n",
    "fig.update_yaxes(showgrid=True, gridwidth=1, gridcolor='lightgray')\n",
    "\n",
    "fig.show()"
   ]
  },
  {
   "cell_type": "code",
   "execution_count": null,
   "metadata": {},
   "outputs": [],
   "source": [
    "#number of waterfront houses compared to total:\n",
    "waterfront_houses = (df_housing.waterfront.values == 1).sum()\n",
    "total_houses = df_housing.shape[0]\n",
    "print(f\"There are {waterfront_houses} waterfront houses and {total_houses} houses in total. Hence, only {waterfront_houses/total_houses * 100} % of the houses are waterfront houses. This wish highly restricts the available houses.\")"
   ]
  },
  {
   "cell_type": "code",
   "execution_count": null,
   "metadata": {},
   "outputs": [],
   "source": [
    "cor_price_water = df_housing.price.corr(df_housing.waterfront)\n",
    "cor_price_water"
   ]
  },
  {
   "attachments": {},
   "cell_type": "markdown",
   "metadata": {},
   "source": [
    "The computed correlation between Waterfront location and price is unexpectedly low at 0.2763. However, there are only 146 waterfront houses and 21596 houses in total. Hence, only 0.6761 % of the houses are waterfront houses. The data on waterfront houses is very scarce.\n",
    "\n",
    "We definitely learn that this wish highly restricts the available houses."
   ]
  },
  {
   "cell_type": "code",
   "execution_count": null,
   "metadata": {},
   "outputs": [],
   "source": [
    "# fig = px.scatter(df_housing, \n",
    "#              x='waterfront', \n",
    "#              y='price', \n",
    "# #             title=\"Waterfront - Price\", \n",
    "# #             text='count',\n",
    "#              width=400, height=400)\n",
    "\n",
    "# # , color='cadetblue'\n",
    "# fig.update_layout(\n",
    "#      xaxis_title=\"Waterfront\", \n",
    "#      yaxis_title=\"Price\",\n",
    "#      font_family=\"Average\",\n",
    "#      font_color=\"dimgray\",\n",
    "#      font_size=20,\n",
    "#      title_font_family=\"Average\",\n",
    "#      title_font_size=25,\n",
    "#      margin=dict(l=75, r=45, t=50, b=45),\n",
    "# #     paper_bgcolor=\"white\",\n",
    "#      plot_bgcolor=\"white\"\n",
    "# )\n",
    "# # texttemplate can be configured with rounding etc., e.g. '%{text:.2s}'\n",
    "# fig.update_traces(marker=dict(color=\"cadetblue\"))\n",
    "# fig.update_yaxes(showline=True, linecolor='dimgrey')\n",
    "# fig.update_xaxes(showline=True, linecolor='dimgrey')\n",
    "# fig.update_yaxes(showgrid=True, gridwidth=1, gridcolor='lightgray')\n",
    "\n",
    "# fig.show()"
   ]
  },
  {
   "attachments": {},
   "cell_type": "markdown",
   "metadata": {},
   "source": [
    "When we use additional markers, e.g. bedrooms or sqft_living, to compare similar houses located at/away from waterfront, we obtain new insights.\n",
    "\n",
    "The mean, median for the price when waterfront yes/no separately confirm this:\n",
    "* No waterfront:\n",
    "    - Price mean 532636.36\n",
    "    - Price median 450000.00\n",
    "* Waterfront:\n",
    "    - Price mean 1717214.73\n",
    "    - Price median 1510000.00\n"
   ]
  },
  {
   "attachments": {},
   "cell_type": "markdown",
   "metadata": {},
   "source": [
    "### Hypothesis: The more bedrooms a house has, the higher the price (bedrooms)"
   ]
  },
  {
   "cell_type": "code",
   "execution_count": null,
   "metadata": {},
   "outputs": [],
   "source": [
    "# Hypothesis: The more bedrooms a house has, the higher the price (bedrooms)\n",
    "df_housing.waterfront = df_housing.waterfront.astype(str) # for discrete color scale\n",
    "# change entries for nicer legend\n",
    "df_housing['waterfront'] = df_housing['waterfront'].map({\n",
    "    'nan': 'Unknown',\n",
    "    '0.0': 'No', \n",
    "    '1.0': 'Yes'\n",
    "    })\n",
    "ax = sns.scatterplot(data=df_housing, \n",
    "                x='bedrooms', \n",
    "                y='price', \n",
    "                hue=\"waterfront\",\n",
    "                palette=[\"gray\", \"cadetblue\", \"darkslategrey\"], \n",
    "#                legend=False,\n",
    "                ).set_title('Bedrooms vs. Price')\n",
    "#handles, labels  =  ax.get_legend_handles_labels()\n",
    "#ax.legend(handles, ['unknown', 'No', 'Yes'])#, loc='lower right')\n",
    "#plt.legend(title='Waterfront', loc='upper right', labels=['unknown', 'No', 'Yes'])\n",
    "plt.legend(title='Waterfront')\n",
    "plt.xlabel('Number of Bedrooms')\n",
    "plt.ylabel('Price')\n",
    "plt.show()\n",
    "# change entries back\n",
    "df_housing['waterfront'] = df_housing['waterfront'].map({\n",
    "    'Unknown':'nan',\n",
    "    'No':'0.0', \n",
    "    'Yes':'1.0'\n",
    "#    np.NaN: 'fog'\n",
    "    })\n",
    "# change data type back to float\n",
    "df_housing.waterfront = df_housing.waterfront.astype(float)"
   ]
  },
  {
   "attachments": {},
   "cell_type": "markdown",
   "metadata": {},
   "source": [
    "It seems from above plot that we might gather some insight from looking at waterfront houses only. The following plots support this assumption and underline the positive correlation of price and bedrooms, sqft_living for waterfront houses."
   ]
  },
  {
   "cell_type": "code",
   "execution_count": null,
   "metadata": {},
   "outputs": [],
   "source": [
    "# Hypothesis: The more bedrooms a house has, the higher the price (bedrooms)\n",
    "ax = sns.lmplot(data=df_housing.query('waterfront==1'), \n",
    "                x='bedrooms', \n",
    "                y='price',\n",
    "#                x_jitter=0.1, \n",
    "                scatter_kws={'color' : 'cadetblue'},\n",
    "                line_kws={'color' : 'darkslategrey'}\n",
    "                )#.set_title('Bedrooms vs. Price')\n",
    "plt.xlabel('Number of Bedrooms')\n",
    "plt.ylabel('Price')\n",
    "plt.show()\n",
    "\n",
    "sns.lmplot(data=df_housing.query('bedrooms<=6'), x='bedrooms', y='price',# hue=\"waterfront\",\n",
    "                scatter_kws={'color' : 'cadetblue'},\n",
    "                line_kws={'color' : 'darkslategrey'}\n",
    "                )#.set_title('sqft_living vs. Price')\n",
    "plt.xlabel('Bedrooms')\n",
    "plt.ylabel('Price')\n",
    "#plt.title('sqft Living vs. Price')\n",
    "plt.show();"
   ]
  },
  {
   "cell_type": "code",
   "execution_count": null,
   "metadata": {},
   "outputs": [],
   "source": [
    "df_housing.price.corr(df_housing.bedrooms)"
   ]
  },
  {
   "cell_type": "code",
   "execution_count": null,
   "metadata": {},
   "outputs": [],
   "source": [
    "df_housing.query('waterfront==1')['bedrooms'].corr(df_housing.query('waterfront==1')['price'])"
   ]
  },
  {
   "cell_type": "code",
   "execution_count": null,
   "metadata": {},
   "outputs": [],
   "source": [
    "df_housing.query('bedrooms<=6')['bedrooms'].corr(df_housing.query('bedrooms<=6')['price'])"
   ]
  },
  {
   "attachments": {},
   "cell_type": "markdown",
   "metadata": {},
   "source": [
    "The correlation between price and number of bedrooms for waterfronthouses is strongly positive at 0.51."
   ]
  },
  {
   "cell_type": "code",
   "execution_count": null,
   "metadata": {},
   "outputs": [],
   "source": [
    "# change datatype to string for discrete color scale\n",
    "df_housing.waterfront = df_housing.waterfront.astype(str) \n",
    "# change entries for nicer legend\n",
    "df_housing['waterfront'] = df_housing['waterfront'].map({\n",
    "    'nan': 'Unknown',\n",
    "    '0.0': 'No', \n",
    "    '1.0': 'Yes'\n",
    "    })\n",
    "sns.scatterplot(data=df_housing, \n",
    "                x='sqft_living', \n",
    "                y='price', \n",
    "                hue=\"waterfront\",\n",
    "                palette=[\"gray\", \"cadetblue\", \"darkslategrey\"], \n",
    "#                legend=False,\n",
    "                ).set_title('sqft_living vs. Price')\n",
    "\n",
    "plt.legend(title='Waterfront')#, labels=['','unknown', 'No', 'Yes'])\n",
    "\n",
    "plt.xlabel('sqft Living')\n",
    "plt.ylabel('Price')\n",
    "#plt.title('sqft Living vs. Price')\n",
    "\n",
    "sns.lmplot(data=df_housing, x='sqft_living', y='price', hue=\"waterfront\",\n",
    "                palette=[\"gray\", \"cadetblue\", \"darkslategrey\"], \n",
    "#                legend=False,\n",
    "                )#.set_title('sqft_living vs. Price')\n",
    "plt.xlabel('sqft Living')\n",
    "plt.ylabel('Price')\n",
    "#plt.title('sqft Living vs. Price')\n",
    "plt.show();\n",
    "# change entries back\n",
    "df_housing['waterfront'] = df_housing['waterfront'].map({\n",
    "    'Unknown':'nan',\n",
    "    'No':'0.0', \n",
    "    'Yes':'1.0'\n",
    "#    np.NaN: 'fog'\n",
    "    })\n",
    "# change data type back to float\n",
    "df_housing.waterfront = df_housing.waterfront.astype(float)"
   ]
  },
  {
   "attachments": {},
   "cell_type": "markdown",
   "metadata": {},
   "source": [
    "The price is naturally influenced by various factors. We need to keep this in mind when examining correlations: All other things being equal, the more reliable the correlation.\n",
    "If we, e.g., restrict ourselves to houses with sqft_living $\\in [4000,6000]$, then the correlation between price and waterfront is 0.39 - a strong increase compared to 0.28 before."
   ]
  },
  {
   "cell_type": "code",
   "execution_count": null,
   "metadata": {},
   "outputs": [],
   "source": [
    "#sqft_living in range 3000-5000, then look at correlation between price and waterfront\n",
    "df_housing.query(\"sqft_living >= 4000 and sqft_living <= 6000\").price.corr(df_housing.query(\"sqft_living >= 4000 and sqft_living <= 6000\").waterfront)"
   ]
  },
  {
   "cell_type": "code",
   "execution_count": null,
   "metadata": {},
   "outputs": [],
   "source": [
    "df_housing.groupby(\"waterfront\")[\"price\", \"bedrooms\"].describe()\n",
    "#bedroom data comparable at/away from waterfront\n",
    "#price is higher when at waterfront"
   ]
  },
  {
   "cell_type": "code",
   "execution_count": null,
   "metadata": {},
   "outputs": [],
   "source": [
    "#pd.plotting.scatter_matrix(df_housing[[\"price\", \"waterfront\", \"condition\", \"grade\", \"bedrooms\", \"sqft_lot\"]]);\n",
    "sns.pairplot(df_housing[[\"price\", \"waterfront\", \"condition\", \"grade\", \"bedrooms\", \"sqft_lot\", \"sqft_lot15\"]], dropna=False)"
   ]
  },
  {
   "cell_type": "code",
   "execution_count": null,
   "metadata": {},
   "outputs": [],
   "source": [
    "#add column price per sqft_living\n",
    "df_housing[\"price_per_sqft_living\"] = df_housing.price / df_housing.sqft_living"
   ]
  },
  {
   "attachments": {},
   "cell_type": "markdown",
   "metadata": {},
   "source": [
    "How are the characteristics correlated?\n",
    "\n",
    "high (> 0.5) positiv correlation between\n",
    "\n",
    "- price and bathrooms\n",
    "- price and grade\n",
    "- price and sqft_living\n",
    "- price and sqft_living15\n",
    "- bedrooms and bathrooms\n",
    "- bedrooms and sqft_living\n",
    "- bathrooms and sqft_living\n",
    "- bathrooms and floors\n",
    "- bathrooms and grade\n",
    "- bathrooms and sqft_above\n",
    "- bathrooms and yr_built\n",
    "- bathrooms and sqft_living15\n",
    "- sqft_living and grade\n",
    "- sqft_living and sqft_above\n",
    "- sqft_living and sqft_living15\n",
    "- sqft_lot and sqft_lot15\n",
    "- floors and sqft_above\n",
    "- grade and sqft_above\n",
    "- grade and sqft_living15\n",
    "- sqft_above and sqft_living15\n"
   ]
  },
  {
   "cell_type": "code",
   "execution_count": null,
   "metadata": {},
   "outputs": [],
   "source": [
    "df_housing.corr().style.bar(align='zero',color=[\"orange\"])"
   ]
  },
  {
   "cell_type": "code",
   "execution_count": null,
   "metadata": {},
   "outputs": [],
   "source": [
    "# Hypothesis: The more bedrooms a house has, the higher the price (bedrooms)\n",
    "df_housing.waterfront = df_housing.waterfront.astype(str) # for discrete color scale\n",
    "ax = sns.scatterplot(data=df_housing, \n",
    "                x='bedrooms', \n",
    "                y='price_per_sqft_living', \n",
    "                hue=\"waterfront\",\n",
    "#                palette='crest', \n",
    "                palette=(\"Greys\")\n",
    "#                legend=False,\n",
    "                ).set_title('Bedrooms vs. Price/sqft_living')\n",
    "#handles, labels  =  ax.get_legend_handles_labels()\n",
    "#ax.legend(handles, ['unknown', 'No', 'Yes'])#, loc='lower right')\n",
    "#plt.legend(title='Waterfront', loc='upper right', labels=['unknown', 'No', 'Yes'])\n",
    "plt.legend(title='Waterfront')\n",
    "plt.xlabel('Number of Bedrooms')\n",
    "plt.ylabel('Price/sqft_living')\n",
    "plt.show()\n",
    "df_housing.waterfront = df_housing.waterfront.astype(float)"
   ]
  },
  {
   "attachments": {},
   "cell_type": "markdown",
   "metadata": {},
   "source": [
    "Concerning the hypothesis \"The more bedrooms, the higher the price\", further investigation, especially of the larger houses, is needed.\n",
    "\n",
    "The correlation of those two characteristics is 0.32. The distribution is unexpected for >= 6 bedrooms.\n",
    "\n",
    "### Hypothesis: The better the overall condition /the higher the grade of the house, the higher the price\n"
   ]
  },
  {
   "cell_type": "code",
   "execution_count": null,
   "metadata": {},
   "outputs": [],
   "source": [
    "# Hypothesis: The better the overall condition /the higher the grade of the house, the higher the price\n",
    "sns.scatterplot(data=df_housing, x='condition', y='price', hue=\"grade\", palette='Greys')\n",
    "plt.legend(title='Grade')\n",
    "plt.xlabel('Condition')\n",
    "plt.ylabel('Price')\n",
    "plt.show()\n",
    "\n",
    "sns.scatterplot(data=df_housing, x='grade', y='price', hue=\"condition\", palette='crest')\n",
    "plt.legend(title='Condition')\n",
    "plt.xlabel('Grade')\n",
    "plt.ylabel('Price')\n",
    "plt.show()\n",
    "#sns.lmplot(data=df_housing, x='grade', y='price')#, hue=\"condition\");"
   ]
  },
  {
   "cell_type": "code",
   "execution_count": null,
   "metadata": {},
   "outputs": [],
   "source": [
    "# # Hypothesis: The better the overall condition /the higher the grade of the house, the higher the price\n",
    "# sns.scatterplot(data=df_housing, x='condition', y='price_per_sqft_living', hue=\"grade\")\n",
    "# plt.show()\n",
    "# sns.scatterplot(data=df_housing, x='grade', y='price_per_sqft_living', hue=\"condition\")\n",
    "# plt.show()\n",
    "#sns.lmplot(data=df_housing, x='grade', y='price_per_sqft_living')#, hue=\"condition\");"
   ]
  },
  {
   "attachments": {},
   "cell_type": "markdown",
   "metadata": {},
   "source": [
    "There are 788 observations where the sqft_living is larger than the sqft_lot. How is this possible? Imaginable are, e.g.,  multiple story units/houses on comparably small lots."
   ]
  },
  {
   "cell_type": "code",
   "execution_count": null,
   "metadata": {},
   "outputs": [],
   "source": [
    "df_housing.query(\"sqft_living > sqft_lot\")#.value_counts()"
   ]
  },
  {
   "cell_type": "code",
   "execution_count": null,
   "metadata": {},
   "outputs": [],
   "source": [
    "sns.scatterplot(data=df_housing, \n",
    "                x='sqft_lot', \n",
    "                y='price', \n",
    "                hue=\"sqft_lot15\",\n",
    "#                palette=[\"palevioletred\", \"cadetblue\", \"darkslategrey\"], \n",
    "#                legend=False,\n",
    "                ).set_title('sqft_lot vs. Price')\n",
    "\n",
    "plt.legend(title='sqft_lot15')\n",
    "\n",
    "plt.xlabel('sqft Lot')\n",
    "plt.ylabel('Price')"
   ]
  },
  {
   "attachments": {},
   "cell_type": "markdown",
   "metadata": {},
   "source": [
    "## Answers to Hypotheses\n",
    "\n",
    "1. the price is higher for houses at the waterfront. Yes.\n",
    "1. the more bedrooms, the higher the price: true for waterfront housing. Only true up to and including 5 bedrooms in general\n",
    "1. The better the overall condition /the higher the grade of the house, the higher the price. True for price/grade: correlation of 0.667951. not true for price/condition: correlation of 0.036056"
   ]
  },
  {
   "attachments": {},
   "cell_type": "markdown",
   "metadata": {},
   "source": [
    "## Assumptions for Larry:\n",
    "Let us quickly recap our assumptions for our client Larry Sanders:\n",
    "\n",
    "- Waterfront - evident by yes/no attribute\n",
    "- Limited budget - not larger than median\n",
    "- Nice house - condition 3 and up, grade 7 and up ( = median)\n",
    "- Isolated house - sufficiently large lot size, sufficiently large lot size of the 15 nearest neighbors. Above median\n",
    "- Central neighborhood - Top 15 zip codes with the highest population density\n",
    "- Neighborhood without kids - zip codes with at most 2 schools\n",
    "- Has children - at least 2 bedrooms\n",
    "\n",
    "Based on our assumptions, we will drop the columns not needed for our investigation."
   ]
  },
  {
   "cell_type": "code",
   "execution_count": null,
   "metadata": {},
   "outputs": [],
   "source": [
    "#dropping columns not of relevance to Larry's needs\n",
    "df_Larry = df_housing.drop(['bathrooms', 'floors', 'view', 'sqft_above', 'sqft_basement', 'yr_built', 'yr_renovated'], axis = 1)\n",
    "df_Larry"
   ]
  },
  {
   "attachments": {},
   "cell_type": "markdown",
   "metadata": {},
   "source": [
    "## Importing Additional Data\n",
    "\n",
    "In order to be able to make statements about centrality and \"neighborhoods without children\", we make use of additional data. Let us now imporrt those two data sources.\n",
    "\n",
    "First, we import data on population density per zip code and transform the columns inzo a format we can work with."
   ]
  },
  {
   "cell_type": "code",
   "execution_count": null,
   "metadata": {},
   "outputs": [],
   "source": [
    "# get data on population density per zip code\n",
    "# from http://www.usa.com/rank/king-county-wa--population-density--zip-code-rank.htm?yr=9000&dis=&wist=&plow=&phigh=\n",
    "df_pop_density = pd.read_csv('data/King_County_Population_Density.csv', sep = '\\t')"
   ]
  },
  {
   "cell_type": "code",
   "execution_count": null,
   "metadata": {},
   "outputs": [],
   "source": [
    "df_pop_density"
   ]
  },
  {
   "cell_type": "code",
   "execution_count": null,
   "metadata": {},
   "outputs": [],
   "source": [
    "# split zip/population column into two columns\n",
    "df_pop_density[['zip','population']]= df_pop_density[\"zip/population\"].str.split(\"/\", expand=True)"
   ]
  },
  {
   "cell_type": "code",
   "execution_count": null,
   "metadata": {},
   "outputs": [],
   "source": [
    "#drop combined column\n",
    "df_pop_density.drop(\"zip/population\", axis=1, inplace=True)"
   ]
  },
  {
   "cell_type": "code",
   "execution_count": null,
   "metadata": {},
   "outputs": [],
   "source": [
    "#change data type of rank column to int\n",
    "df_pop_density = df_pop_density.astype({'rank': int})"
   ]
  },
  {
   "cell_type": "code",
   "execution_count": null,
   "metadata": {},
   "outputs": [],
   "source": [
    "# remove comma and unit /sq mi from population density column and turn into float\n",
    "df_pop_density[\"population_density\"] = df_pop_density.population_density.str.strip('/sq mi')"
   ]
  },
  {
   "cell_type": "code",
   "execution_count": null,
   "metadata": {},
   "outputs": [],
   "source": [
    "#remove , from string numbers and turn into float\n",
    "df_pop_density[\"population_density\"] = df_pop_density.population_density.str.replace(',', \"\").astype('float')"
   ]
  },
  {
   "cell_type": "code",
   "execution_count": null,
   "metadata": {},
   "outputs": [],
   "source": [
    "# zip into int\n",
    "df_pop_density[\"zip\"] = df_pop_density.zip.astype('int')"
   ]
  },
  {
   "cell_type": "code",
   "execution_count": null,
   "metadata": {},
   "outputs": [],
   "source": [
    "#check our work\n",
    "df_pop_density.head()"
   ]
  },
  {
   "cell_type": "code",
   "execution_count": null,
   "metadata": {},
   "outputs": [],
   "source": [
    "df_pop_density.info()"
   ]
  },
  {
   "cell_type": "code",
   "execution_count": null,
   "metadata": {},
   "outputs": [],
   "source": [
    "# drop columns not needed \n",
    "df_pop_density_short = df_pop_density.drop([\"population_density\",\"population\"], axis=1)\n",
    "df_pop_density_short"
   ]
  },
  {
   "attachments": {},
   "cell_type": "markdown",
   "metadata": {},
   "source": [
    "We now have a DataFrame consisting of King County zip codes and corresponding population density rank.\n",
    "\n",
    "We store this information in a dictionary."
   ]
  },
  {
   "cell_type": "code",
   "execution_count": null,
   "metadata": {},
   "outputs": [],
   "source": [
    "ranks = df_pop_density_short['rank'].tolist()\n",
    "dens_zips = df_pop_density['zip'].tolist()\n",
    "dict_pop_rk = dict(zip(dens_zips,ranks)) \n",
    "dict_pop_rk "
   ]
  },
  {
   "attachments": {},
   "cell_type": "markdown",
   "metadata": {},
   "source": [
    "We now import the data on schools in King County. We also transform this data so that we can work with it."
   ]
  },
  {
   "cell_type": "code",
   "execution_count": null,
   "metadata": {},
   "outputs": [],
   "source": [
    "# from https://gis-kingcounty.opendata.arcgis.com/datasets/kingcounty::school-sites-in-king-county-schsite-point/explore?location=47.503391%2C-122.188658%2C10.00\n",
    "df_schools = pd.read_csv('data/School_Sites_in_King_County___schsite_point.csv')\n",
    "df_schools.head()"
   ]
  },
  {
   "cell_type": "code",
   "execution_count": null,
   "metadata": {},
   "outputs": [],
   "source": [
    "# drop not needed columns\n",
    "df_schools.drop(['X','Y', 'FEATURE_ID', 'ESITE', 'CODE','ABB_NAME', 'OSPI_CODE', 'PIN', 'MAJOR', 'MINOR'], axis=1, inplace=True)"
   ]
  },
  {
   "cell_type": "code",
   "execution_count": null,
   "metadata": {},
   "outputs": [],
   "source": [
    "# take a look\n",
    "df_schools.head()"
   ]
  },
  {
   "cell_type": "code",
   "execution_count": null,
   "metadata": {},
   "outputs": [],
   "source": [
    "# Check for duplicates - no duplicates!\n",
    "df_schools.duplicated().value_counts()"
   ]
  },
  {
   "cell_type": "code",
   "execution_count": null,
   "metadata": {},
   "outputs": [],
   "source": [
    "# count schools per zip code\n",
    "df_schools.groupby('ZIPCODE').count()"
   ]
  },
  {
   "attachments": {},
   "cell_type": "markdown",
   "metadata": {},
   "source": [
    "We group by zip codes in order to obtain the number of schools per zip code. We reset the index to obtain the column 'zipcode' again. We then store this information in a dictionary."
   ]
  },
  {
   "cell_type": "code",
   "execution_count": null,
   "metadata": {},
   "outputs": [],
   "source": [
    "#store this information with reset index in order to still have a column 'zipcode'\n",
    "df_schools_zip = df_schools.groupby('ZIPCODE').count().reset_index()[['ZIPCODE','OBJECTID']]\n",
    "df_schools_zip"
   ]
  },
  {
   "cell_type": "code",
   "execution_count": null,
   "metadata": {},
   "outputs": [],
   "source": [
    "# make dictionary of schools per zip code\n",
    "dict_school_zip = dict(zip(df_schools_zip['ZIPCODE'], df_schools_zip['OBJECTID']))\n",
    "dict_school_zip"
   ]
  },
  {
   "cell_type": "code",
   "execution_count": null,
   "metadata": {},
   "outputs": [],
   "source": [
    "# # get schools per zip code\n",
    "# %store -r dict_school_zip\n",
    "# print(dict_school_zip)\n",
    "# # get population density rank of zipcodes\n",
    "# %store -r dict_pop_rk\n",
    "# print(dict_pop_rk)\n",
    "# %store -r df_pop_density_short"
   ]
  },
  {
   "cell_type": "code",
   "execution_count": null,
   "metadata": {},
   "outputs": [],
   "source": [
    "# pd.Series(dict_school_zip.values()).value_counts().describe()"
   ]
  },
  {
   "cell_type": "code",
   "execution_count": null,
   "metadata": {},
   "outputs": [],
   "source": [
    "np.unique(np.array(sorted(dict_school_zip.values())))\n"
   ]
  },
  {
   "attachments": {},
   "cell_type": "markdown",
   "metadata": {},
   "source": [
    "The different zip code areas contain between 1 and 20 schools, 15 does not occur."
   ]
  },
  {
   "cell_type": "code",
   "execution_count": null,
   "metadata": {},
   "outputs": [],
   "source": [
    "sorted(dict_school_zip.values())"
   ]
  },
  {
   "attachments": {},
   "cell_type": "markdown",
   "metadata": {},
   "source": [
    "### New characteristics for our Data\n",
    "\n",
    "We add two columns to 'Larrys DataFrame'. Both result as the image of a map on the zip codes by applying the dictionaries of population density rank and schools per zip code.\n",
    "\n",
    "The column 'population density rank' will be our measure for centrality of the houses. The column 'schools per zip code' will be our measure for children free neighborhoods."
   ]
  },
  {
   "cell_type": "code",
   "execution_count": null,
   "metadata": {},
   "outputs": [],
   "source": [
    "df_Larry['density_rank']= df_Larry.zipcode.map(dict_pop_rk)\n",
    "df_Larry['schools_per_zip'] = df_Larry.zipcode.map(dict_school_zip)\n",
    "df_Larry"
   ]
  },
  {
   "attachments": {},
   "cell_type": "markdown",
   "metadata": {},
   "source": [
    "We can now examine the centrality of the houses listed."
   ]
  },
  {
   "cell_type": "code",
   "execution_count": null,
   "metadata": {},
   "outputs": [],
   "source": [
    "sns.scatterplot(data=df_Larry, x='density_rank', y='price', hue='schools_per_zip');"
   ]
  },
  {
   "cell_type": "code",
   "execution_count": null,
   "metadata": {},
   "outputs": [],
   "source": [
    "sns.scatterplot(data=df_Larry, x='density_rank', y='price_per_sqft_living');#, hue='schools_per_zip')"
   ]
  },
  {
   "cell_type": "code",
   "execution_count": null,
   "metadata": {},
   "outputs": [],
   "source": [
    "df_Larry[['price','density_rank','schools_per_zip']].corr().style.bar(align='zero',color=[\"orange\"])"
   ]
  },
  {
   "attachments": {},
   "cell_type": "markdown",
   "metadata": {},
   "source": [
    "Contrary to our assumption, the centrality (based on population density) is not correlated to the price."
   ]
  },
  {
   "cell_type": "code",
   "execution_count": null,
   "metadata": {},
   "outputs": [],
   "source": [
    "sns.scatterplot(data=df_Larry, x='schools_per_zip', y='price', hue='density_rank');"
   ]
  },
  {
   "cell_type": "code",
   "execution_count": null,
   "metadata": {},
   "outputs": [],
   "source": [
    "sns.scatterplot(data=df_Larry, x='density_rank', y='schools_per_zip', hue='price');"
   ]
  },
  {
   "cell_type": "code",
   "execution_count": null,
   "metadata": {},
   "outputs": [],
   "source": [
    "df_Larry.corr()"
   ]
  },
  {
   "attachments": {},
   "cell_type": "markdown",
   "metadata": {},
   "source": [
    "## A Wish Function for Larry\n",
    "\n",
    "What are we to recommend to our client? A function to the rescue! Larry has 7 wishes, hence, there are 7 criteria. Each criterion satisfied counts for 1. \n",
    "If 2 variables determine a single criterion (e.g., grade and condition determine the state \"nice\" of the house), each accounts for 0.5.\n",
    "\n",
    "By definition, the maximum possible outcome per house is 7 points.\n",
    "\n",
    "__Goal: recommend zip code for Larry__ where he has most chances of finding a house he likes.\n",
    "\n",
    "points for:\n",
    "\n",
    "* waterfront yes\n",
    "* limited budget: price not larger than median (not mean since too highly influenced by extreme values), i.e. 450000 $\n",
    "* nice: \n",
    "    - Condition: An index from 1 to 5 on the condition of the apartment (overall). Seems to be no correlation, but for Larry we can decide on only looking at Condition 3 and up since he wants a nice house.\n",
    "    - Grade: An index from 1 to 13, where 1-3 falls short of building construction and design, 7 has an average level of construction and design, and 11-13 have a high quality level of construction and design. Highly correlated to price. For Larry, we will only consider grade 7 and up housing since he wants a nice house.\n",
    "    - to weigh every wish equally, both measure 0.5\n",
    "* isolated: \n",
    "    - sqft_lot above median so that house has above average distance to neighbor, i.e. 7619 sqft\n",
    "    - sqft_lot15 above median so that 15 nearest neighbors also have above average distance, i.e. 7620 sqft\n",
    "    - to weigh every wish equally, both measure 0.5\n",
    "* central: when in top 15 (or max_rank) population density zip codes, i.e. if density_rank <= 15\n",
    "* room for kids: bedrooms >= 2\n",
    "* neighborhood without kids: no more than 2 (1st quartile) schools in the zip code"
   ]
  },
  {
   "cell_type": "code",
   "execution_count": null,
   "metadata": {},
   "outputs": [],
   "source": [
    "# collect numbers needed for function\n",
    "price_limit = df_housing.price.median()\n",
    "price_limit"
   ]
  },
  {
   "cell_type": "code",
   "execution_count": null,
   "metadata": {},
   "outputs": [],
   "source": [
    "lot_min = df_housing.sqft_lot.median()\n",
    "lot_min"
   ]
  },
  {
   "cell_type": "code",
   "execution_count": null,
   "metadata": {},
   "outputs": [],
   "source": [
    "lot15_min = df_housing.sqft_lot15.median()\n",
    "lot15_min"
   ]
  },
  {
   "cell_type": "code",
   "execution_count": null,
   "metadata": {},
   "outputs": [],
   "source": [
    "# #list of top 15 population density rank zip codes\n",
    "# # truncate DataFrame after top 15\n",
    "# df_pop_density_short[:15]\n",
    "# # add zip entries to list\n",
    "# ls_central = df_pop_density_short[:15].zip.tolist()\n",
    "# ls_central"
   ]
  },
  {
   "attachments": {},
   "cell_type": "markdown",
   "metadata": {},
   "source": [
    "We are now ready to define the wish function for Larry. Based on this function, we make a new column in our DataFrame that contains the number of attained points for every observation."
   ]
  },
  {
   "cell_type": "code",
   "execution_count": null,
   "metadata": {},
   "outputs": [],
   "source": [
    "#define the function that assigns the number of fulfilled wishes to the listed houses - the 'wish points'\n",
    "def larrys_wishes(price, condition, grade, sqft_lot, sqft_lot15, density_rank, bedrooms, schools_per_zip, waterfront=0, price_limit=450000, condition_min=3, grade_min=7, lot_min=7619, lot15_min=7620.0, max_rank=15, bedrooms_min=2, max_schools=2):\n",
    "    \"\"\"computes the 'wish points' of house observations according to Larrys wishes, where each of his seven wishes accounts for 1 point. value between 0 and 7.\n",
    "\n",
    "    Args:\n",
    "        price (float): price of the house sold\n",
    "        condition (int): condition  of the house sold\n",
    "        grade (int): grade of the house sold\n",
    "        sqft_lot (float): size of the lot of the house sold\n",
    "        sqft_lot15 (float): average lot size of the 15 nearest neighbors of the house sold\n",
    "        density_rank (int): population density rank of the zip code the house is located in, 1 being the highest\n",
    "        bedrooms (int): number of bedrooms of the house sold\n",
    "        schools_per_zip (int): number of schools located in the zip code of the house sold\n",
    "        waterfront (int, optional): 1 for waterfront location, 0 for no waterfront location. Defaults to 0.\n",
    "        price_limit (int, optional): Larry's price limit in order to meet his criteria. Defaults to 450000.\n",
    "        condition_min (int, optional): Condition contributes a half wish point if not lower than condition_min. Defaults to 3.\n",
    "        grade_min (int, optional): Grade contributes a half wish point if not lower than grade_min. Defaults to 7.\n",
    "        lot_min (int, optional): sqft_lot contributes a half wish point if not lower than lot_min. Defaults to 7619.\n",
    "        lot15_min (float, optional): sqft_lot15 contributes a half wish point if not lower than lot15_min. Defaults to 7620.0.\n",
    "        max_rank (int, optional): density_rank contributes a wish point if not above max_rank. Defaults to 15.\n",
    "        bedrooms_min (int, optional): bedrooms contributes a wish point if not lower than bedrooms_min. Defaults to 2.\n",
    "        max_schools (int, optional): schools_per_zip contributes a wish point if not above max_schools. Defaults to 2.\n",
    "\n",
    "    Returns:\n",
    "        float: The number of Larry's wishes the observation fulfills. Half points stem from wishes determined by two criteria.\n",
    "    \"\"\"\n",
    "    points = 0\n",
    "    if waterfront == 1:\n",
    "        points += 1\n",
    "    if price <= price_limit:\n",
    "        points += 1\n",
    "    if condition >= condition_min:\n",
    "        points += 0.5\n",
    "    if grade >=grade_min:\n",
    "        points += 0.5\n",
    "    if sqft_lot > lot_min:\n",
    "        points += 0.5\n",
    "    if sqft_lot15 > lot15_min:\n",
    "        points += 0.5\n",
    "    if density_rank <= max_rank:\n",
    "        points += 1\n",
    "    if bedrooms >= bedrooms_min:\n",
    "        points += 1\n",
    "    if schools_per_zip <= max_schools:\n",
    "        points += 1\n",
    "    return points"
   ]
  },
  {
   "cell_type": "code",
   "execution_count": null,
   "metadata": {},
   "outputs": [],
   "source": [
    "# make new column\n",
    "df_Larry[\"wish_points\"] = df_Larry.apply(lambda row: larrys_wishes(row.price, row.condition, row.grade, row.sqft_lot, row.sqft_lot15, row.density_rank, row.bedrooms, row.schools_per_zip, row.waterfront), axis=1)"
   ]
  },
  {
   "cell_type": "code",
   "execution_count": null,
   "metadata": {},
   "outputs": [],
   "source": [
    "#see if it worked\n",
    "df_Larry.head()"
   ]
  },
  {
   "cell_type": "code",
   "execution_count": null,
   "metadata": {},
   "outputs": [],
   "source": [
    "df_Larry.describe()['wish_points']"
   ]
  },
  {
   "cell_type": "code",
   "execution_count": null,
   "metadata": {},
   "outputs": [],
   "source": [
    "(\n",
    "df_Larry.groupby(\"zipcode\")\n",
    "    .mean()\n",
    "    .sort_values(['wish_points'], ascending=False)\n",
    ")"
   ]
  },
  {
   "attachments": {},
   "cell_type": "markdown",
   "metadata": {},
   "source": [
    "We see that the maximum value of points attained by houses sold is 5. The maximum average wish points per zip code are 4.4.\n",
    "\n",
    "However, a house fulfilling all of Larry's wishes should have 7 points. \n",
    "\n",
    "__Not a single house meeting all of Larry's criteria has been sold.__\n",
    "\n",
    "Thus, we decide to have an imaginary talk with our clint in order to discuss which criteria to relax."
   ]
  },
  {
   "attachments": {},
   "cell_type": "markdown",
   "metadata": {},
   "source": [
    "Since the price restriction is non negotiable (there just is no more money...) this restriction is kept as is.\n",
    "\n",
    "We decide to omit the requirements for \"waterfront\" since this is simply too big a restriction.\n",
    "\n",
    "We relax the requirements for \"neighborhood without kids\" to 4 schools per zip code and to relax the requirements for the lot size of the house and those of of the neighbors since he would still have a sufficiently large lot himself (and does not have to let anyone in, anyway). Values changed to 30th percentile: sqft_lot 5612.000, sqft_lot15 5625.500\n",
    "\n",
    "We furthermore decide to look somewhat less central since Larry is not too fond of other people anyways. (maximal population density rank raised to 25)\n",
    "\n",
    "Grade and condition are lowered to 6 and 2, resp.\n",
    "\n",
    "The new maximum value for his wish function is, hence, 6."
   ]
  },
  {
   "cell_type": "code",
   "execution_count": null,
   "metadata": {},
   "outputs": [],
   "source": [
    "#get value of 30th percentile of lot size\n",
    "df_Larry[['sqft_lot', 'sqft_lot15']].quantile(.3)"
   ]
  },
  {
   "cell_type": "code",
   "execution_count": null,
   "metadata": {},
   "outputs": [],
   "source": [
    "# we use the function defined before with changed limit values to obtain a new column with \"relaxed wish points\"\n",
    "# omit waterfront so that default value 0 is used.\n",
    "df_Larry[\"wish_points_rel\"] = df_Larry.apply(lambda row: larrys_wishes(\n",
    "    row.price, \n",
    "    row.condition, \n",
    "    row.grade, \n",
    "    row.sqft_lot, \n",
    "    row.sqft_lot15, \n",
    "    row.density_rank, \n",
    "    row.bedrooms, \n",
    "    row.schools_per_zip, \n",
    "    price_limit=450000, \n",
    "    condition_min=3, \n",
    "    grade_min=7, \n",
    "    lot_min=5612, \n",
    "    lot15_min=5625, \n",
    "    max_rank=25, \n",
    "    bedrooms_min=2, \n",
    "    max_schools=4), \n",
    "    axis=1\n",
    "    )"
   ]
  },
  {
   "cell_type": "code",
   "execution_count": null,
   "metadata": {},
   "outputs": [],
   "source": [
    "df_Larry.describe()['wish_points_rel']"
   ]
  },
  {
   "cell_type": "code",
   "execution_count": null,
   "metadata": {},
   "outputs": [],
   "source": [
    "df_Larry.query(\"wish_points_rel == 6\").groupby(\"zipcode\").count()\n",
    "#all 17 houses with the maximal possible number of 6 wish points lie in zip code 98136"
   ]
  },
  {
   "cell_type": "code",
   "execution_count": null,
   "metadata": {},
   "outputs": [],
   "source": [
    "houses_98136 = df_Larry.zipcode.value_counts()[98136]\n",
    "houses_98136_6 = df_Larry.query(\"wish_points_rel == 6\").zipcode.value_counts()[98136]\n",
    "print(f\"There are {houses_98136_6} houses in zip code 98136 with maximal number of 6 wish points. A total of {houses_98136} houses have been sold in that zip code. Hence, {houses_98136_6 / houses_98136 * 100} % of the sold houses in that zip code fulfill all requirements.\")"
   ]
  },
  {
   "cell_type": "code",
   "execution_count": null,
   "metadata": {},
   "outputs": [],
   "source": []
  },
  {
   "attachments": {},
   "cell_type": "markdown",
   "metadata": {},
   "source": [
    "We find out that all 17 houses with the maximal possible number of 6 wish points lie in zip code __98136__. Hence, if Larry has his mind set on finding a house that meets all of the remaining criteria, he should definitely look there."
   ]
  },
  {
   "cell_type": "code",
   "execution_count": null,
   "metadata": {},
   "outputs": [],
   "source": [
    "df_Larry.wish_points_rel.hist(color=[\"cadetblue\"])\n",
    "plt.xlabel('Wish Points')\n",
    "plt.ylabel('Count')"
   ]
  },
  {
   "attachments": {},
   "cell_type": "markdown",
   "metadata": {},
   "source": [
    "In case Larry might be willing to lessen his restrictions slightly, let us look at the average points of houses put on the market. How likely is the average house to fulfill Larry's wishes?\n",
    "\n",
    "We look at the average points per zip code. \n",
    "The top ten thereof are our recommendation as to where to look for houses.\n",
    "\n",
    "Note that we do not consider the value count `df_Larry.query(\"wish_points_rel>=5\").value_counts(\"zipcode\")` because we cannot base our recommendation on this count: They are absolute values, strongly influenced by the total number of houses in those zip codes."
   ]
  },
  {
   "cell_type": "code",
   "execution_count": null,
   "metadata": {},
   "outputs": [],
   "source": [
    "# How likely is the average house put on the market to fulfill Larry's wishes?\n",
    "# we look at the average points per zip code. \n",
    "# The top ten thereof are our recommendation as to where to look for houses.\n",
    "df_Larry_rec = pd.DataFrame(\n",
    "df_Larry.groupby(\"zipcode\")\n",
    "    .mean()\n",
    "    .sort_values(['wish_points_rel'], ascending=False)['wish_points_rel']#[:11]\n",
    ")\n",
    "df_Larry_rec.reset_index(inplace=True)\n",
    "df_Larry_rec.head(10)"
   ]
  },
  {
   "cell_type": "code",
   "execution_count": null,
   "metadata": {},
   "outputs": [],
   "source": [
    "df_Larry_rec.tail()"
   ]
  },
  {
   "cell_type": "code",
   "execution_count": null,
   "metadata": {},
   "outputs": [],
   "source": [
    "# import plotly.graph_objects as go\n",
    "\n",
    "# #df = pd.read_csv(\"data_group_work/airports.csv\")\n",
    "\n",
    "# #namelist = [f'IATA: {df[\"iata\"][x]}<br>Name: {df[\"name\"][x]}<br>State: {df[\"state\"][x]}' for x in range(len(df))] # We need this later for the 'text'-argument in go.Scattergeo() to make the labels look nicer.\n",
    "\n",
    "# fig = go.Figure(\n",
    "\n",
    "# go.Scattergeo(\n",
    "#         locationmode = 'USA-states', \n",
    "#         lon = df_housing['long'],\n",
    "#         lat = df_housing['lat'],\n",
    "# #        text = namelist,\n",
    "#         mode = 'markers',\n",
    "#         marker = dict( # controls the points\n",
    "#             size = 2,\n",
    "#             color = 'red',\n",
    "#             opacity = 1\n",
    "#         )\n",
    "#     ))\n",
    "\n",
    "#fig.add_trace() add county/zip bordrs as trace\n",
    "\n",
    "# fig.update_layout(\n",
    "#          title_text = 'Houses sold',\n",
    "#          showlegend = False,\n",
    "#          margin={\"r\":0,\"t\":50,\"l\":0,\"b\":0},\n",
    "#          geo = dict(\n",
    "#              scope = 'usa',\n",
    "#              landcolor = 'rgb(217, 217, 217)'\n",
    "#          )\n",
    "#      )\n",
    "\n",
    "# fig.update_geos(fitbounds='locations')\n",
    "\n",
    "# fig.show()"
   ]
  },
  {
   "attachments": {},
   "cell_type": "markdown",
   "metadata": {},
   "source": [
    "## Recommendations for Larry\n",
    "\n",
    "1. Don’t restrict yourself to waterfront housing!\n",
    "1. If all other criteria should be satisfied: Zip code 98136! All 26 Houses with maximal possible 6 wish points are there\n",
    "1. Top 10 zip codes with highest average “wish fulfilling property”\n",
    "\n",
    "|Zip codes |Average wish points|\n",
    "|---|---|\n",
    "| 98030 | 4.86|\n",
    "| 98031 | 4.84 |\n",
    "| 98136 | 4.83 |\n",
    "| 98045 | 4.54 |\n",
    "| 98010 | 4.50 |\n",
    "| 98055 | 4.47 |\n",
    "| 98133 | 4.46 |\n",
    "| 98146 | 4.39 |\n",
    "| 98125 | 4.36 |\n",
    "| 98024 | 4.35 |\n"
   ]
  },
  {
   "cell_type": "code",
   "execution_count": null,
   "metadata": {},
   "outputs": [],
   "source": [
    "# take a look at the number of houses sold per zip code\n",
    "df_housing.groupby('zipcode').count().reset_index().sort_values('id', ascending=False)"
   ]
  },
  {
   "cell_type": "code",
   "execution_count": null,
   "metadata": {},
   "outputs": [],
   "source": [
    "# additional requirements for map plots\n",
    "import plotly.express as px\n",
    "from urllib.request import urlopen\n",
    "import json"
   ]
  },
  {
   "cell_type": "code",
   "execution_count": null,
   "metadata": {},
   "outputs": [],
   "source": [
    "with urlopen('https://raw.githubusercontent.com/OpenDataDE/State-zip-code-GeoJSON/master/wa_washington_zip_codes_geo.min.json') as response:\n",
    "#with urlopen('http://data-seattlecitygis.opendata.arcgis.com/datasets/83fc2e72903343aabff6de8cb445b81c_2.geojson') as response:\n",
    "# data from https://catalog.data.gov/dataset/zip-codes-2259a\n",
    "# data/Zip_Codes.geojson\n",
    "#with urlopen('https://data-seattlecitygis.opendata.arcgis.com/datasets/SeattleCityGIS::zip-codes.geojson?outSR=%7B%22latestWkid%22%3A2926%2C%22wkid%22%3A2926%7D') as response:\n",
    "    zipcodes = json.load(response)\n",
    "fig = px.choropleth(df_housing.groupby('zipcode').count().reset_index(),\n",
    "                    geojson=zipcodes, \n",
    "                    locations='zipcode', \n",
    "                    color='id',\n",
    "                    color_continuous_scale=\"bluyl\",#\"Viridis_r\",\n",
    "#                    range_color=(3.5,5),\n",
    "                    featureidkey=\"properties.ZCTA5CE10\",\n",
    "                    scope=\"usa\",\n",
    "                    labels={'id':'Number of Houses Sold'}\n",
    "                          )\n",
    "\n",
    "fig.update_layout(\n",
    "    title = dict(text='Houses Sold', y=0.9, yanchor='top'),\n",
    "    margin={\"r\":50,\"t\":50,\"l\":50,\"b\":50}\n",
    "    )\n",
    "fig.update_geos(fitbounds='locations')\n",
    "fig.show()"
   ]
  },
  {
   "attachments": {},
   "cell_type": "markdown",
   "metadata": {},
   "source": [
    "We want to hand Larry a map of the recommended zip codes so that he knows right away where to start looking.\n",
    "\n",
    "We import geo data of the zip code area boundaries in order to plot them. the areas will be colored according to the average wish point value."
   ]
  },
  {
   "cell_type": "code",
   "execution_count": null,
   "metadata": {},
   "outputs": [],
   "source": []
  },
  {
   "cell_type": "code",
   "execution_count": null,
   "metadata": {},
   "outputs": [],
   "source": [
    "with urlopen('https://raw.githubusercontent.com/OpenDataDE/State-zip-code-GeoJSON/master/wa_washington_zip_codes_geo.min.json') as response:\n",
    "    zipcodes = json.load(response)\n",
    "fig = px.choropleth(df_Larry_rec,\n",
    "                    geojson=zipcodes, \n",
    "                    locations='zipcode', \n",
    "                    color='wish_points_rel',\n",
    "                    color_continuous_scale=\"bluyl\",#\"Viridis_r\",\n",
    "                    range_color=(2.5,5),#set boundaries for colors\n",
    "                    featureidkey=\"properties.ZCTA5CE10\",\n",
    "                    scope=\"usa\",\n",
    "                    labels={'wish_points_rel':'Average Wish Points'}\n",
    "                          )\n",
    "\n",
    "fig.update_layout(\n",
    "    title = dict(text='Recommended Zip Codes for Larry', y=0.95, yanchor='top'),\n",
    "    margin={\"r\":50,\"t\":50,\"l\":50,\"b\":50}\n",
    "    )\n",
    "fig.update_geos(fitbounds='locations')\n",
    "fig.show()"
   ]
  },
  {
   "cell_type": "code",
   "execution_count": null,
   "metadata": {},
   "outputs": [],
   "source": [
    "#Why is this not working????\n",
    "#with urlopen('http://data-seattlecitygis.opendata.arcgis.com/datasets/83fc2e72903343aabff6de8cb445b81c_2.geojson') as response:\n",
    "# data taken from https://catalog.data.gov/dataset/zip-codes-2259a\n",
    "# data/Zip_Codes.geojson\n",
    "#with urlopen('https://data-seattlecitygis.opendata.arcgis.com/datasets/SeattleCityGIS::zip-codes.geojson?outSR=%7B%22latestWkid%22%3A2926%2C%22wkid%22%3A2926%7D') as response:\n",
    "\n",
    "# change to string in order to match geojson file\n",
    "#df_Larry_rec['zipcode'] = df_Larry_rec['zipcode'].astype('str')\n",
    "with open('data/Zipcodes_for_King_County_and_Surrounding_Area_(Shorelines)___zipcode_shore_area.geojson') as response:\n",
    "# with open('data/Zip_Codes.geojson') as response:\n",
    "    zipcodes = json.load(response)\n",
    "fig = px.choropleth_mapbox(df_Larry_rec,\n",
    "                    geojson=zipcodes, \n",
    "                    locations='zipcode', \n",
    "                    color='wish_points_rel',\n",
    "                    color_continuous_scale=\"bluyl\",#\"Viridis_r\",     \n",
    "                    featureidkey=\"properties.ZIP\",    \n",
    "# featureidkey argument defines the property in geojson that is used to match to the locations argument value\n",
    "#                    scope=\"usa\",\n",
    "                    labels={'wish_points_rel':'Average Wish Points'}\n",
    "                          )\n",
    "\n",
    "fig.update_layout(\n",
    "    title = dict(text='Recommended Zip Codes for Larry', y=0.9, yanchor='top'),\n",
    "    margin={\"r\":50,\"t\":50,\"l\":50,\"b\":50}\n",
    "    )\n",
    "fig.update_geos(fitbounds='locations')\n",
    "fig.show()\n",
    "#df_Larry_rec['zipcode'] = df_Larry_rec['zipcode'].astype('int')"
   ]
  },
  {
   "cell_type": "code",
   "execution_count": null,
   "metadata": {},
   "outputs": [],
   "source": [
    "#Why is this not working????\n",
    "# change to string in order to match geojson file\n",
    "df_Larry_rec['zipcode'] = df_Larry_rec['zipcode'].astype('str')\n",
    "print(len(df_Larry_rec['zipcode']))\n",
    "with open('data/Zip_Codes.geojson') as response:\n",
    "    \n",
    "    zipcodes = json.load(response)\n",
    "    fig = px.choropleth(df_Larry_rec,\n",
    "                    geojson=zipcodes, \n",
    "                    locations='zipcode', \n",
    "                    color='wish_points_rel',\n",
    "                    color_continuous_scale=\"bluyl\",#\"Viridis_r\",     \n",
    "                    featureidkey=\"properties.ZIPCODE\",    \n",
    "                    # featureidkey argument defines the property in geojson that is used to match to the locations argument value\n",
    "                    scope=\"usa\",\n",
    "                    #labels={'wish_points_rel':'Average Wish Points'}\n",
    "                          )\n",
    "\n",
    "    fig.update_layout(\n",
    "        title = dict(text='Recommended Zip Codes for Larry', y=0.9, yanchor='top'),\n",
    "        margin={\"r\":50,\"t\":50,\"l\":50,\"b\":50}\n",
    "        )\n",
    "    fig.update_geos(fitbounds='locations')\n",
    "    fig.show()\n",
    "    df_Larry_rec['zipcode'] = df_Larry_rec['zipcode'].astype('int')"
   ]
  },
  {
   "cell_type": "code",
   "execution_count": null,
   "metadata": {},
   "outputs": [],
   "source": [
    "len(zipcodes['features'])"
   ]
  },
  {
   "attachments": {},
   "cell_type": "markdown",
   "metadata": {},
   "source": [
    "## Future Work\n",
    "\n",
    "The analysis can be further improved by considering the following aspects:\n",
    "\n",
    "* Add weight options or ranks to the criteria in the wish function\n",
    "* Nicer recommendation plot\n",
    "* Build dashboard where you can change the weights/ranks\n",
    "* Neighborhoods without kids:\n",
    "    * Match school data to time frame sold: School data is from 2021\n",
    "    * Find data on area per zip code,  compute “school density” for more precise ranking\n",
    "    * Find/understand census data on age groups per zip code\n",
    "* Alternative strategy concerning “central” houses\n",
    "* Add renovation status as another factor for “nice” houses"
   ]
  }
 ],
 "metadata": {
  "kernelspec": {
   "display_name": ".venv",
   "language": "python",
   "name": "python3"
  },
  "language_info": {
   "codemirror_mode": {
    "name": "ipython",
    "version": 3
   },
   "file_extension": ".py",
   "mimetype": "text/x-python",
   "name": "python",
   "nbconvert_exporter": "python",
   "pygments_lexer": "ipython3",
   "version": "3.9.8"
  },
  "orig_nbformat": 4
 },
 "nbformat": 4,
 "nbformat_minor": 2
}
