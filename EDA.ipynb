{
 "cells": [
  {
   "attachments": {},
   "cell_type": "markdown",
   "metadata": {},
   "source": [
    "# EDA"
   ]
  },
  {
   "cell_type": "code",
   "execution_count": null,
   "metadata": {},
   "outputs": [],
   "source": [
    "#import necessary libraries\n",
    "\n",
    "#import warnings\n",
    "#warnings.filterwarnings(\"ignore\")\n",
    "\n",
    "import pandas as pd\n",
    "import numpy as np\n",
    "import matplotlib.pyplot as plt\n",
    "import seaborn as sns\n",
    "import missingno as msno\n",
    "\n",
    "# from matplotlib.ticker import PercentFormatter\n",
    "# plt.rcParams.update({ \"figure.figsize\" : (8, 5),\"axes.facecolor\" : \"white\", \"axes.edgecolor\":  \"black\"})\n",
    "# plt.rcParams[\"figure.facecolor\"]= \"w\"\n",
    "# pd.plotting.register_matplotlib_converters()\n",
    "\n",
    "#round all floats to 3 decimals\n",
    "pd.set_option('display.float_format', lambda x: '%.3f' % x)"
   ]
  },
  {
   "cell_type": "code",
   "execution_count": null,
   "metadata": {},
   "outputs": [],
   "source": [
    "#loading data into DataFrame\n",
    "df_housing = pd.read_csv('data/King_County_House_prices_dataset.csv')\n",
    "\n",
    "# # as column 'condition' is truncated in the display, disable column truncation\n",
    "# pd.set_option('display.max_columns', None) \n",
    "# pd.set_option('display.width', None) \n",
    "# pd.set_option('display.max_colwidth', -1)"
   ]
  },
  {
   "cell_type": "code",
   "execution_count": null,
   "metadata": {},
   "outputs": [],
   "source": [
    "#examining the data\n",
    "df_housing.head()"
   ]
  },
  {
   "cell_type": "code",
   "execution_count": null,
   "metadata": {},
   "outputs": [],
   "source": [
    "# Check for duplicates - no duplicates!\n",
    "df_housing.duplicated().value_counts()"
   ]
  },
  {
   "cell_type": "code",
   "execution_count": null,
   "metadata": {},
   "outputs": [],
   "source": [
    "df_housing.shape"
   ]
  },
  {
   "cell_type": "code",
   "execution_count": null,
   "metadata": {},
   "outputs": [],
   "source": [
    "df_housing.info()\n",
    "#21597 entries, 21 columns\n",
    "# there are NaN entries"
   ]
  },
  {
   "cell_type": "code",
   "execution_count": null,
   "metadata": {},
   "outputs": [],
   "source": [
    "# how is the data indexed?\n",
    "# standard numerical indexes starting at 0 with step=1, last index = 21596\n",
    "df_housing.index"
   ]
  },
  {
   "cell_type": "code",
   "execution_count": null,
   "metadata": {},
   "outputs": [],
   "source": [
    "# check data types in data frame\n",
    "#df_housing.dtypes"
   ]
  },
  {
   "cell_type": "code",
   "execution_count": null,
   "metadata": {},
   "outputs": [],
   "source": [
    "df_housing.describe()"
   ]
  },
  {
   "attachments": {},
   "cell_type": "markdown",
   "metadata": {},
   "source": [
    "Observations:\n",
    "1. There is an outlier 33 in the bedrooms column.\n",
    "1. There might be an outlier 8 in the bathrooms column.\n",
    "1. What is the grading system?\n",
    "1. what does 'view' mean?\n",
    "1. How is the condition rated?\n",
    "2. Missing values in the waterfront, view, yr_renovated columns\n",
    "1. sqft_basement has non-numerical entries (e.g. ?)\n",
    "5. The date column is in string format and needs to be changed to datetime\n",
    "8. df.describe is not of much help as it doesn't show columns with missing data (NaN)\n",
    "1. column names are already in Snake Case, no renaming necessary\n",
    "1. What are half floors?\n",
    "1. What are .25 bathrooms?"
   ]
  },
  {
   "cell_type": "code",
   "execution_count": null,
   "metadata": {},
   "outputs": [],
   "source": [
    "#look at outlier bedrooms\n",
    "df_housing.query(\"bedrooms==33\")\n",
    "#conclusion: does not match size of house, faulty data, line should be removed"
   ]
  },
  {
   "cell_type": "code",
   "execution_count": null,
   "metadata": {},
   "outputs": [],
   "source": [
    "df_housing.query(\"bedrooms==33\").index"
   ]
  },
  {
   "cell_type": "code",
   "execution_count": null,
   "metadata": {},
   "outputs": [],
   "source": [
    "#remove line with 33 bedrooms\n",
    "df_housing.drop(df_housing.query(\"bedrooms==33\").index, inplace=True)\n",
    "# reset index inplace\n",
    "df_housing.reset_index(inplace=True, drop=True)"
   ]
  },
  {
   "cell_type": "code",
   "execution_count": null,
   "metadata": {},
   "outputs": [],
   "source": [
    "df_housing.shape"
   ]
  },
  {
   "cell_type": "code",
   "execution_count": null,
   "metadata": {},
   "outputs": [],
   "source": [
    "df_housing.describe()"
   ]
  },
  {
   "cell_type": "code",
   "execution_count": null,
   "metadata": {},
   "outputs": [],
   "source": [
    "df_housing.query(\"bedrooms==7 and bathrooms==1\")\n",
    "# bedrooms fit sqft_living, data remains"
   ]
  },
  {
   "cell_type": "code",
   "execution_count": null,
   "metadata": {},
   "outputs": [],
   "source": [
    "#look at outlier bedrooms\n",
    "df_housing.query(\"bedrooms>=7\").describe()\n",
    "# nothing suspicious, data remains. \n",
    "# House with 7 bedrooms, 1 bathroom: fits sqft_living, data remains"
   ]
  },
  {
   "cell_type": "code",
   "execution_count": null,
   "metadata": {},
   "outputs": [],
   "source": [
    "#look at outlier bathrooms\n",
    "df_housing.query(\"bathrooms==8\")\n",
    "#conclusion: matches large number of bedrooms and very high price, data should remain in the data set"
   ]
  },
  {
   "cell_type": "code",
   "execution_count": null,
   "metadata": {},
   "outputs": [],
   "source": [
    "#look at outlier sqft_living\n",
    "df_housing.query(\"sqft_living==13540\")\n",
    "#conclusion: matches large number of bedrooms, bathrooms and very high price, data should remain in the data set"
   ]
  },
  {
   "cell_type": "code",
   "execution_count": null,
   "metadata": {},
   "outputs": [],
   "source": [
    "df_housing.describe()"
   ]
  },
  {
   "cell_type": "code",
   "execution_count": null,
   "metadata": {},
   "outputs": [],
   "source": [
    "# change \"date\" dtype to datetime with format %Y/%m/%d\n",
    "df_housing['date'] = pd.to_datetime(df_housing['date'], format='%m/%d/%Y')"
   ]
  },
  {
   "cell_type": "code",
   "execution_count": null,
   "metadata": {},
   "outputs": [],
   "source": [
    "# How to display only the year???\n",
    "# change \"yr_built\" dtype to datetime with format %Y\n",
    "# df_housing['yr_built'] = pd.to_datetime(df_housing['yr_built'], format='%Y')"
   ]
  },
  {
   "cell_type": "code",
   "execution_count": null,
   "metadata": {},
   "outputs": [],
   "source": [
    "# how to convert yr_renovated? wrong format 0, NaN\n",
    "# change \"yr_renovated\" dtype to datetime with format %Y\n",
    "# not relevant for Larry!\n",
    "#df_housing['yr_renovated'] = pd.to_datetime(df_housing['yr_renovated'], format='%Y')"
   ]
  },
  {
   "cell_type": "code",
   "execution_count": null,
   "metadata": {},
   "outputs": [],
   "source": [
    "# Take a new look\n",
    "df_housing.head()"
   ]
  },
  {
   "cell_type": "code",
   "execution_count": null,
   "metadata": {},
   "outputs": [],
   "source": [
    "# # sqft_basement contains string objects, we want floats.\n",
    "# # try to convert it to get error message:\n",
    "# # not relevant for Larry\n",
    "# df_housing = df_housing.astype({'sqft_basement': float})\n",
    "# # we get '?' as non convertable entry"
   ]
  },
  {
   "cell_type": "code",
   "execution_count": null,
   "metadata": {},
   "outputs": [],
   "source": [
    "#look at rows with '?' entry in sqft_basement column\n",
    "df_housing.query('sqft_basement == \"?\"')"
   ]
  },
  {
   "cell_type": "code",
   "execution_count": null,
   "metadata": {},
   "outputs": [],
   "source": [
    "#replace the `?`-character with a numpy NaN value\n",
    "df_housing['sqft_basement'] = df_housing.sqft_basement.replace('?',np.NaN)\n",
    "# change data type to float\n",
    "df_housing = df_housing.astype({'sqft_basement': float})\n",
    "df_housing.sqft_basement.dtypes"
   ]
  },
  {
   "cell_type": "code",
   "execution_count": null,
   "metadata": {},
   "outputs": [],
   "source": [
    "df_housing.info()"
   ]
  },
  {
   "cell_type": "code",
   "execution_count": null,
   "metadata": {},
   "outputs": [],
   "source": [
    "# looking at missing values\n",
    "# display number of missing values per column\n",
    "df_housing.isna().sum()\n",
    "# Only waterfront is relevant for Larry's wishes. \n",
    "# It is reasonable to assume that for the houses with NaN, \n",
    "# it is not known whether they are located at the waterfront.\n",
    "# the missing values cannot be imputed.\n",
    "# the other columns can be deleted, no imputation necessary."
   ]
  },
  {
   "cell_type": "code",
   "execution_count": null,
   "metadata": {},
   "outputs": [],
   "source": [
    "print(f\"numbers of rows : {df_housing.shape[0]}\")\n",
    "print(f\"missing values in waterfront : {round(df_housing.waterfront.isna().sum()/df_housing.shape[0]*100,2)} %\")\n",
    "print(f\"missing values in view : {round(df_housing.view.isna().sum()/df_housing.shape[0]*100,2)} %\")\n",
    "print(f\"missing values in sqft_basement : {round(df_housing.sqft_basement.isna().sum()/df_housing.shape[0]*100,2)} %\")\n",
    "print(f\"missing values in yr_renovated : {round(df_housing.yr_renovated.isna().sum()/df_housing.shape[0]*100,2)} %\")\n",
    "\n",
    "print(f\"missing values in data frame : {round(df_housing.isna().sum().sum()/(df_housing.shape[0]*df_housing.shape[1])*100,2)} %\")\n",
    "# .sum() twice in last row: first gives a series of the number of nan-values per column, \n",
    "# the second sums these up"
   ]
  },
  {
   "cell_type": "code",
   "execution_count": null,
   "metadata": {},
   "outputs": [],
   "source": [
    "# plotting percentage of missing values per column\n",
    "msno.bar(df_housing)"
   ]
  },
  {
   "cell_type": "code",
   "execution_count": null,
   "metadata": {},
   "outputs": [],
   "source": [
    "msno.matrix(df_housing)"
   ]
  },
  {
   "cell_type": "code",
   "execution_count": null,
   "metadata": {},
   "outputs": [],
   "source": [
    "df_housing.sort_values('date')"
   ]
  },
  {
   "attachments": {},
   "cell_type": "markdown",
   "metadata": {},
   "source": [
    "## categorical data:\n",
    "\n",
    "- id\n",
    "- date\n",
    "- bedrooms\n",
    "- bathrooms\n",
    "- sqft_living\n",
    "- sqft_lot\n",
    "- floors\n",
    "- waterfront\n",
    "- view\n",
    "- condition\n",
    "- grade\n",
    "- yr_built\n",
    "- yr_renovated\n",
    "- zipcode\n",
    "\n",
    "## continuous data:\n",
    "\n",
    "- price\n",
    "- sqft_above\n",
    "- sqft_basement\n",
    "- lat\n",
    "- long\n",
    "- sqft_living15\n",
    "- sqft_lot15"
   ]
  },
  {
   "attachments": {},
   "cell_type": "markdown",
   "metadata": {},
   "source": [
    "## Research Questions and Hypothesis Generation\n",
    "\n",
    "### Questions with belonging hypotheses and their indicators:\n",
    "\n",
    "* Does the location of a house affect the price?\n",
    "    1. The closer a house is to the city center, the higher the price (geolocation)\n",
    "    1. If a house is located close to water, then the price is higher (waterfront(yes/no)) \n",
    "    1. If the house is located in a \"good\" zip code, the price is higher (zipcode)\n",
    "\n",
    "* Does the size of a house affect the price?\n",
    "    1. The more bedrooms a house has, the higher the price (bedrooms)\n",
    "    1. The higher the square footage of the house, the higher the price (sqft_liviing)\n",
    "    1. The more bathrooms the house has, the higher the price\n",
    "    1. The more floors the house has, the higher the price (floors)\n",
    "    1. If the house has a basement, the price is higher (sqft_basement)\n",
    "    \n",
    "* Does the interest in a house affect the price?\n",
    "    1. The higher the number of views, the higher the price (view)\n",
    "\n",
    "* Does the state the house is in affect the price?\n",
    "    1. The better the overall condition of the house, the higher the price (condition)\n",
    "    1. The better the grade, the higher the price (grade)\n",
    "    1. The newer the renovation status, the higher the price (yr_renovated)\n",
    "\n",
    "### Questions relevant for Client\n",
    "\n",
    "Client: Larry Sanders, Buyer.\n",
    "Characteristics: Waterfront , limited budget, nice & isolated but central neighborhood without kids (but got some of his own, just doesn't want his kids to play with other kids .. because of germs)\n",
    "\n",
    "* How to parametrize \"nice & isolated but central\"? Assumptions:\n",
    "    1. research zip codes, which are close to center? Population density?\n",
    "    1. condition could be an indicator for a \"nice\" house\n",
    "    1. Assumption: Isolated: Refers to sqft_lot size, some e.g. lawn surrounding the house? and sqft_lot15\n",
    "\n",
    "* Assumption: Has several kids, hence needs a house with at least 2 bedrooms. \n",
    "\n",
    "* Are there houses that meet all the criteria?\n",
    "    1. Are there limited budget houses at the waterfront?\n",
    "    1. Are there isolated but central houses?\n",
    "\n",
    "\n",
    "* Room for kids: Does the size of a house affect the price?\n",
    "    1. The more bedrooms a house has, the higher the price (bedrooms)\n",
    "\n",
    "* Nice house: Does the state the house is in affect the price?\n",
    "    1. The better the overall condition of the house, the higher the price (condition)\n",
    "    1. The better the grade, the higher the price (grade)\n",
    "    1. The newer the renovation status, the higher the price (yr_renovated)\n",
    "\n",
    "* Waterfront, central: Does the location of a house affect the price?\n",
    "    1. The closer a house is to the city center, the higher the price (geolocation, zipcode)\n",
    "    1. If a house is located at the waterfront, then the price is higher (waterfront(yes/no)) \n",
    "\n",
    "* Does the size of the lot affect the price?\n",
    "    1. The larger the lot, the higher the price. (sqft_lot; Assumption: Isolated: Refers to sqft_lot size, some e.g. lawn surrounding the house?)\n",
    "\n",
    "* Isolated: Look at sqft_lot and sqft_lot15? Starting where isolated?\n",
    "* No kids: Maybe school info per zip code?\n",
    "* Limited budget: Are there houses that meet all the criteria? Assumption: Below or up to median or some other percentile?"
   ]
  },
  {
   "attachments": {},
   "cell_type": "markdown",
   "metadata": {},
   "source": [
    "* Grade: Classification by construction quality which refers to the types of materials used and the quality of workmanship. Buildings of better quality (higher grade) cost more to build per unit of measure and command higher value. (See Glossary in Area Report for Residential Building Grades in use by the King County Department of Assessments.)\n",
    "* view An index from 0 to 4 of how good the view of the property was\n",
    "condition Condition of the house, ranked from 1 to 5"
   ]
  },
  {
   "cell_type": "code",
   "execution_count": null,
   "metadata": {},
   "outputs": [],
   "source": [
    "# how are the houses with(out) waterfront distributed?\n",
    "df_housing.waterfront.hist();"
   ]
  },
  {
   "cell_type": "code",
   "execution_count": null,
   "metadata": {},
   "outputs": [],
   "source": [
    "counts_waterfront = df_housing.waterfront.value_counts(dropna=False)\n",
    "counts_waterfront.plot.bar(title='Waterfront Yes/No')\n",
    "#plt.hist(df_housing.waterfront.replace(np.nan, \"unknown\"))\n",
    "plt.show()"
   ]
  },
  {
   "cell_type": "code",
   "execution_count": null,
   "metadata": {},
   "outputs": [],
   "source": [
    "df_waterfront = pd.DataFrame(counts_waterfront).reset_index()\n",
    "df_waterfront.columns = ['waterfront', 'count']\n",
    "df_waterfront.waterfront = ['no', 'unknown', 'yes']\n",
    "df_waterfront"
   ]
  },
  {
   "cell_type": "code",
   "execution_count": null,
   "metadata": {},
   "outputs": [],
   "source": [
    "sns.barplot(data=df_waterfront, x='waterfront', y='count')\n"
   ]
  },
  {
   "cell_type": "code",
   "execution_count": null,
   "metadata": {},
   "outputs": [],
   "source": [
    "#number of waterfront houses compared to total:\n",
    "waterfront_houses = (df_housing.waterfront.values == 1).sum()\n",
    "total_houses = df_housing.shape[0]\n",
    "print(f\"There are {waterfront_houses} waterfront houses and {total_houses} houses in total. Hence, only {waterfront_houses/total_houses * 100} % of the houses are waterfront houses. This wish highly restricts the available houses.\")"
   ]
  },
  {
   "cell_type": "code",
   "execution_count": null,
   "metadata": {},
   "outputs": [],
   "source": [
    "cor_price_water = df_housing.price.corr(df_housing.waterfront)\n",
    "cor_price_water"
   ]
  },
  {
   "cell_type": "code",
   "execution_count": null,
   "metadata": {},
   "outputs": [],
   "source": [
    "# Hypothesis: The more bedrooms a house has, the higher the price (bedrooms)\n",
    "sns.scatterplot(data=df_housing, x='bedrooms', y='price', hue=\"waterfront\")\n",
    "plt.xlabel('Number of Bedrooms')\n",
    "plt.ylabel('Price')\n",
    "plt.title('Bedrooms vs. Price');"
   ]
  },
  {
   "cell_type": "code",
   "execution_count": null,
   "metadata": {},
   "outputs": [],
   "source": [
    "df_housing.groupby(\"waterfront\", dropna=False).count()\n",
    "#df_housing.query(\"waterfront == np.NaN\")"
   ]
  },
  {
   "cell_type": "code",
   "execution_count": null,
   "metadata": {},
   "outputs": [],
   "source": [
    "sns.scatterplot(data=df_housing, x='sqft_living', y='price', hue=\"waterfront\")\n",
    "plt.xlabel('sqft Living')\n",
    "plt.ylabel('Price')\n",
    "plt.title('sqft Living vs. Price');\n",
    "sns.lmplot(data=df_housing, x='sqft_living', y='price', hue=\"waterfront\")\n",
    "plt.xlabel('sqft Living')\n",
    "plt.ylabel('Price')\n",
    "plt.title('sqft Living vs. Price');"
   ]
  },
  {
   "cell_type": "code",
   "execution_count": null,
   "metadata": {},
   "outputs": [],
   "source": [
    "df_housing.groupby(\"waterfront\")[\"price\", \"bedrooms\"].describe()\n",
    "#bedroom data comparable at/away from waterfront\n",
    "#price is higher when at waterfront"
   ]
  },
  {
   "cell_type": "code",
   "execution_count": null,
   "metadata": {},
   "outputs": [],
   "source": [
    "#pd.plotting.scatter_matrix(df_housing[[\"price\", \"waterfront\", \"condition\", \"grade\", \"bedrooms\", \"sqft_lot\"]]);\n",
    "sns.pairplot(df_housing[[\"price\", \"waterfront\", \"condition\", \"grade\", \"bedrooms\", \"sqft_lot\", \"sqft_lot15\"]], dropna=False)"
   ]
  },
  {
   "cell_type": "code",
   "execution_count": null,
   "metadata": {},
   "outputs": [],
   "source": [
    "#add column price per sqft_living\n",
    "df_housing[\"price_per_sqft_living\"] = df_housing.price / df_housing.sqft_living"
   ]
  },
  {
   "cell_type": "code",
   "execution_count": null,
   "metadata": {},
   "outputs": [],
   "source": [
    "df_housing.corr().style.bar(align='zero',color=[\"orange\"])"
   ]
  },
  {
   "cell_type": "code",
   "execution_count": null,
   "metadata": {},
   "outputs": [],
   "source": [
    "# Hypothesis: The better the overall condition /the higher the grade of the house, the higher the price\n",
    "sns.scatterplot(data=df_housing, x='condition', y='price', hue=\"grade\")\n",
    "plt.show()\n",
    "sns.scatterplot(data=df_housing, x='grade', y='price', hue=\"condition\")\n",
    "plt.show()\n",
    "sns.lmplot(data=df_housing, x='grade', y='price')#, hue=\"condition\");"
   ]
  },
  {
   "cell_type": "code",
   "execution_count": null,
   "metadata": {},
   "outputs": [],
   "source": [
    "# Hypothesis: The better the overall condition /the higher the grade of the house, the higher the price\n",
    "sns.scatterplot(data=df_housing, x='condition', y='price_per_sqft_living', hue=\"grade\")\n",
    "plt.show()\n",
    "sns.scatterplot(data=df_housing, x='grade', y='price_per_sqft_living', hue=\"condition\")\n",
    "plt.show()\n",
    "sns.lmplot(data=df_housing, x='grade', y='price_per_sqft_living')#, hue=\"condition\");"
   ]
  },
  {
   "cell_type": "code",
   "execution_count": null,
   "metadata": {},
   "outputs": [],
   "source": [
    "df_housing.query(\"sqft_living > sqft_lot\")#.value_counts()"
   ]
  },
  {
   "attachments": {},
   "cell_type": "markdown",
   "metadata": {},
   "source": [
    "## Answers to Hypotheses\n",
    "\n",
    "1. the price is higher for houses at the waterfront. Yes.\n",
    "1. the more bedrooms, the higher the price: true for waterfront housing. Only true up to and including 5 bedrooms in general\n",
    "1. The better the overall condition /the higher the grade of the house, the higher the price. True for price/grade: correlation of 0.667951. not true for price/condition: correlation of 0.036056\n",
    "1."
   ]
  },
  {
   "attachments": {},
   "cell_type": "markdown",
   "metadata": {},
   "source": [
    "## Assumptions for Larry:\n",
    "\n",
    "* Condition: An index from 1 to 5 on the condition of the apartment (overall). \n",
    "Seems to be no correlation, but for Larry we can decide on only looking at Condition 3 and up\n",
    "since he wants a nice house\n",
    "\n",
    "* Grade: An index from 1 to 13, \n",
    "where 1-3 falls short of building construction and design, \n",
    "7 has an average level of construction and design, \n",
    "and 11-13 have a high quality level of construction and design.\n",
    "Highly correlated to price. For Larry, we will only consider grade 7 and up housing since he wants a nice house\n",
    "\n",
    "* Isolated housing\n"
   ]
  },
  {
   "cell_type": "code",
   "execution_count": null,
   "metadata": {},
   "outputs": [],
   "source": [
    "#dropping columns not of relevance to Larry's needs\n",
    "df_Larry = df_housing.drop(['bathrooms', 'floors', 'view', 'sqft_above', 'sqft_basement', 'yr_built', 'yr_renovated'], axis = 1)\n",
    "df_Larry"
   ]
  },
  {
   "cell_type": "code",
   "execution_count": null,
   "metadata": {},
   "outputs": [],
   "source": [
    "# get schools per zip code\n",
    "%store -r dict_school_zip\n",
    "print(dict_school_zip)\n",
    "# get population density rank of zipcodes\n",
    "%store -r dict_pop_rk\n",
    "print(dict_pop_rk)\n",
    "%store -r df_pop_density_short"
   ]
  },
  {
   "cell_type": "code",
   "execution_count": null,
   "metadata": {},
   "outputs": [],
   "source": [
    "pd.Series(dict_school_zip.values()).value_counts().describe()"
   ]
  },
  {
   "cell_type": "code",
   "execution_count": null,
   "metadata": {},
   "outputs": [],
   "source": [
    "np.unique(np.array(sorted(dict_school_zip.values())))\n"
   ]
  },
  {
   "cell_type": "code",
   "execution_count": null,
   "metadata": {},
   "outputs": [],
   "source": [
    "sorted(dict_school_zip.values())"
   ]
  },
  {
   "cell_type": "code",
   "execution_count": null,
   "metadata": {},
   "outputs": [],
   "source": [
    "df_Larry['density_rank']= df_Larry.zipcode.map(dict_pop_rk)\n",
    "df_Larry['schools_per_zip'] = df_Larry.zipcode.map(dict_school_zip)\n",
    "df_Larry"
   ]
  },
  {
   "cell_type": "code",
   "execution_count": null,
   "metadata": {},
   "outputs": [],
   "source": [
    "sns.scatterplot(data=df_Larry, x='density_rank', y='price', hue='schools_per_zip');"
   ]
  },
  {
   "cell_type": "code",
   "execution_count": null,
   "metadata": {},
   "outputs": [],
   "source": [
    "sns.lineplot(data=df_Larry, x='density_rank', y='schools_per_zip');"
   ]
  },
  {
   "cell_type": "code",
   "execution_count": null,
   "metadata": {},
   "outputs": [],
   "source": [
    "df_Larry.corr().style.bar(align='zero',color=[\"orange\"])"
   ]
  },
  {
   "attachments": {},
   "cell_type": "markdown",
   "metadata": {},
   "source": [
    "## A Function for Larry\n",
    "points for:\n",
    "\n",
    "* waterfront yes\n",
    "* limited budget: price not larger than median (not mean since too highly influenced by extreme values), i.e. 450000 $\n",
    "* nice: \n",
    "    - Condition: An index from 1 to 5 on the condition of the apartment (overall). Seems to be no correlation, but for Larry we can decide on only looking at Condition 3 and up since he wants a nice house.\n",
    "    - Grade: An index from 1 to 13, where 1-3 falls short of building construction and design, 7 has an average level of construction and design, and 11-13 have a high quality level of construction and design. Highly correlated to price. For Larry, we will only consider grade 7 and up housing since he wants a nice house.\n",
    "    - to weigh every wish equally, both measure 0.5\n",
    "* isolated: \n",
    "    - sqft_lot above median so that house has above average distance to neighbor, i.e. 7619 sqft\n",
    "    - sqft_lot15 above median so that 15 nearest neighbors also have above average distance, i.e. 7620 sqft\n",
    "    - to weigh every wish equally, both measure 0.5\n",
    "* central: when in top 15 (or max_rank) population density zip codes, i.e. if density_rank <= 15\n",
    "* room for kids: bedrooms >= 2\n",
    "* neighborhood without kids: no more than 2 (1st quartile) schools in the zip code"
   ]
  },
  {
   "cell_type": "code",
   "execution_count": null,
   "metadata": {},
   "outputs": [],
   "source": [
    "# collect numbers needed for function\n",
    "price_limit = df_housing.price.median()\n",
    "price_limit"
   ]
  },
  {
   "cell_type": "code",
   "execution_count": null,
   "metadata": {},
   "outputs": [],
   "source": [
    "lot_min = df_housing.sqft_lot.median()\n",
    "lot_min"
   ]
  },
  {
   "cell_type": "code",
   "execution_count": null,
   "metadata": {},
   "outputs": [],
   "source": [
    "lot15_min = df_housing.sqft_lot15.median()\n",
    "lot15_min"
   ]
  },
  {
   "cell_type": "code",
   "execution_count": null,
   "metadata": {},
   "outputs": [],
   "source": [
    "#list of top 15 population density rank zip codes\n",
    "# truncate DataFrame after top 15\n",
    "df_pop_density_short[:15]\n",
    "# add zip entries to list\n",
    "ls_central = df_pop_density_short[:15].zip.tolist()\n",
    "ls_central"
   ]
  },
  {
   "cell_type": "code",
   "execution_count": null,
   "metadata": {},
   "outputs": [],
   "source": [
    "def larrys_wishes(waterfront, price, condition, grade, sqft_lot, sqft_lot15, density_rank, bedrooms, schools_per_zip, price_limit=450000, lot_min=7619, lot15_min=7620.0, max_rank=15, max_schools=2):\n",
    "    points = 0\n",
    "    if waterfront == 1:\n",
    "        points += 1\n",
    "    if price <= price_limit:\n",
    "        points += 1\n",
    "    if condition >= 3:\n",
    "        points += 0.5\n",
    "    if grade >=7:\n",
    "        points += 0.5\n",
    "    if sqft_lot > lot_min:\n",
    "        points += 0.5\n",
    "    if sqft_lot15 > lot15_min:\n",
    "        points += 0.5\n",
    "    if density_rank <= max_rank:\n",
    "        points += 1\n",
    "    if bedrooms >= 2:\n",
    "        points += 1\n",
    "    if schools_per_zip <= max_schools:\n",
    "        points += 1\n",
    "    return points"
   ]
  },
  {
   "cell_type": "code",
   "execution_count": null,
   "metadata": {},
   "outputs": [],
   "source": [
    "df_Larry[\"wish_points\"] = df_Larry.apply(lambda row: larrys_wishes(row.waterfront, row.price, row.condition, row.grade, row.sqft_lot, row.sqft_lot15, row.density_rank, row.bedrooms, row.schools_per_zip), axis=1)"
   ]
  },
  {
   "cell_type": "code",
   "execution_count": null,
   "metadata": {},
   "outputs": [],
   "source": [
    "df_Larry.head()"
   ]
  },
  {
   "cell_type": "code",
   "execution_count": null,
   "metadata": {},
   "outputs": [],
   "source": [
    "df_Larry.describe()['wish_points']"
   ]
  },
  {
   "cell_type": "code",
   "execution_count": null,
   "metadata": {},
   "outputs": [],
   "source": [
    "# df_Larry.sort_values(['wish_points'], ascending=False).head()"
   ]
  },
  {
   "cell_type": "code",
   "execution_count": null,
   "metadata": {},
   "outputs": [],
   "source": [
    "(\n",
    "df_Larry.groupby(\"zipcode\")\n",
    "    .mean()\n",
    "    .sort_values(['wish_points'], ascending=False)\n",
    ")"
   ]
  },
  {
   "attachments": {},
   "cell_type": "markdown",
   "metadata": {},
   "source": [
    "The maximum value of points attained by houses sold is 5. A house fulfilling all of Larry's wishes should have 7 points. This means that not a single house meeting all of Larry's criteria has been sold.\n",
    "\n",
    "Hence, we will relax the conditions in the function in order to get a more realistic picture:\n",
    "points for:\n",
    "\n",
    "* waterfront yes\n",
    "* limited budget: price not larger than median (not mean since too highly influenced by extreme values), i.e. 450000 $\n",
    "* nice: \n",
    "    - Condition: An index from 1 to 5 on the condition of the apartment (overall). Seems to be no correlation, but for Larry we can decide on only looking at Condition 2 and up since he wants a nice house.\n",
    "    - Grade: An index from 1 to 13, where 1-3 falls short of building construction and design, 7 has an average level of construction and design, and 11-13 have a high quality level of construction and design. Highly correlated to price. For Larry, we will only consider grade 6 and up housing since he wants a nice house.\n",
    "    - to weigh every wish equally, both measure 0.5\n",
    "* isolated: \n",
    "    - sqft_lot above 40th percentile so that house has sufficient distance to neighbor, i.e. >= 6745 sqft\n",
    "    - sqft_lot15 above 40th percentile so that 15 nearest neighbors also have sufficient distance, i.e. >= 6750 sqft\n",
    "    - to weigh every wish equally, both measure 0.5\n",
    "* central: when in top 20 (or max_rank) population density zip codes, i.e. if density_rank <= 20\n",
    "* room for kids: bedrooms >= 2\n",
    "* neighborhood without kids: no more than 4 (median) schools in the zip code"
   ]
  },
  {
   "cell_type": "code",
   "execution_count": null,
   "metadata": {},
   "outputs": [],
   "source": [
    "#get value of 40th percentile of lot size\n",
    "df_Larry[['sqft_lot', 'sqft_lot15']].quantile(.4)"
   ]
  },
  {
   "cell_type": "code",
   "execution_count": null,
   "metadata": {},
   "outputs": [],
   "source": [
    "def larrys_wishes_rel(waterfront, price, condition, grade, sqft_lot, sqft_lot15, density_rank, bedrooms, schools_per_zip, price_limit=450000, lot_min=6745, lot15_min=6750, max_rank=20, max_schools=4):\n",
    "    points = 0\n",
    "    if waterfront == 1:\n",
    "        points += 1\n",
    "    if price <= price_limit:\n",
    "        points += 1\n",
    "    if condition >= 2:\n",
    "        points += 0.5\n",
    "    if grade >=6:\n",
    "        points += 0.5\n",
    "    if sqft_lot > lot_min:\n",
    "        points += 0.5\n",
    "    if sqft_lot15 > lot15_min:\n",
    "        points += 0.5\n",
    "    if density_rank <= max_rank:\n",
    "        points += 1\n",
    "    if bedrooms >= 2:\n",
    "        points += 1\n",
    "    if schools_per_zip <= max_schools:\n",
    "        points += 1\n",
    "    return points"
   ]
  },
  {
   "cell_type": "code",
   "execution_count": null,
   "metadata": {},
   "outputs": [],
   "source": [
    "df_Larry[\"wish_points_rel\"] = df_Larry.apply(lambda row: larrys_wishes_rel(row.waterfront, row.price, row.condition, row.grade, row.sqft_lot, row.sqft_lot15, row.density_rank, row.bedrooms, row.schools_per_zip), axis=1)"
   ]
  },
  {
   "cell_type": "code",
   "execution_count": null,
   "metadata": {},
   "outputs": [],
   "source": [
    "df_Larry.describe()['wish_points_rel']"
   ]
  },
  {
   "attachments": {},
   "cell_type": "markdown",
   "metadata": {},
   "source": [
    "I talk to Larry because none of the sold houses meet his needs, not even the relaxed needs. \n",
    "Since the price restriction is non negotiable (there just is no more money...) this restriction is kept as is.\n",
    "\n",
    "We decide to omit the requirements for \"neighborhood without kids\" and to relax the requirements for the lot size of the house and those of of the neighbors since he would still have a sufficiently large lot himself and does not have to let anyone in. Values changed to 30th percentile: sqft_lot 5612.000, sqft_lot15 5625.500\n",
    "\n",
    "We furthermore decide to look somewhat less central since Larry is not too fond of other people anyways. (maximal population density rank raised to 25)\n",
    "\n",
    "Grade and condition are lowered to 5 and 2, resp.\n",
    "\n",
    "We remove the waterfront condition since this is simply too big a restriction.\n",
    "The new maximum value for his wish function is, hence, 5."
   ]
  },
  {
   "attachments": {},
   "cell_type": "markdown",
   "metadata": {},
   "source": []
  },
  {
   "cell_type": "code",
   "execution_count": null,
   "metadata": {},
   "outputs": [],
   "source": [
    "#get value of 40th percentile of lot size\n",
    "df_Larry[['sqft_lot', 'sqft_lot15']].quantile(.3)"
   ]
  },
  {
   "cell_type": "code",
   "execution_count": null,
   "metadata": {},
   "outputs": [],
   "source": [
    "def larrys_wishes_rel2(waterfront, price, condition, grade, sqft_lot, sqft_lot15, density_rank, bedrooms, schools_per_zip, price_limit=450000, lot_min=5612.000, lot15_min=5625.500,max_rank=25, max_schools=4):\n",
    "    points = 0\n",
    "    # if waterfront == 1:\n",
    "    #     points += 1\n",
    "    if price <= price_limit:\n",
    "        points += 1\n",
    "    if condition >= 2:\n",
    "        points += 0.5\n",
    "    if grade >=5:\n",
    "        points += 0.5\n",
    "    if sqft_lot > lot_min:\n",
    "        points += 0.5\n",
    "    if sqft_lot15 > lot15_min:\n",
    "        points += 0.5\n",
    "    if density_rank <= max_rank:\n",
    "        points += 1\n",
    "    if bedrooms >= 2:\n",
    "        points += 1\n",
    "    if schools_per_zip <= max_schools:\n",
    "       points += 1\n",
    "    return points"
   ]
  },
  {
   "cell_type": "code",
   "execution_count": null,
   "metadata": {},
   "outputs": [],
   "source": [
    "df_Larry[\"wish_points_rel2\"] = df_Larry.apply(lambda row: larrys_wishes_rel2(row.waterfront, row.price, row.condition, row.grade, row.sqft_lot, row.sqft_lot15, row.density_rank, row.bedrooms, row.schools_per_zip), axis=1)"
   ]
  },
  {
   "cell_type": "code",
   "execution_count": null,
   "metadata": {},
   "outputs": [],
   "source": [
    "df_Larry.describe()['wish_points_rel2']"
   ]
  },
  {
   "cell_type": "code",
   "execution_count": null,
   "metadata": {},
   "outputs": [],
   "source": [
    "df_Larry.query(\"wish_points_rel2 == 6\").groupby(\"zipcode\").count()\n",
    "#all 26 houses with the maximal possible number of 6 wish points lie in zip code 98136"
   ]
  },
  {
   "cell_type": "code",
   "execution_count": null,
   "metadata": {},
   "outputs": [],
   "source": [
    "df_Larry.wish_points_rel2.hist()"
   ]
  },
  {
   "cell_type": "code",
   "execution_count": null,
   "metadata": {},
   "outputs": [],
   "source": [
    "# How likely is the average house put on the market to fulfill Larry's wishes?\n",
    "# we look at the average points per zip code. \n",
    "# The top ten thereof are our recommendation as to where to look for houses.\n",
    "df_Larry_rec = pd.DataFrame(\n",
    "df_Larry.groupby(\"zipcode\")\n",
    "    .mean()\n",
    "    .sort_values(['wish_points_rel2'], ascending=False)['wish_points_rel2']#[:11]\n",
    ")\n",
    "df_Larry_rec.reset_index(inplace=True)\n",
    "df_Larry_rec.head(10)#.wish_points_rel2"
   ]
  },
  {
   "cell_type": "code",
   "execution_count": null,
   "metadata": {},
   "outputs": [],
   "source": [
    "df_Larry.query(\"wish_points_rel2>=5\").value_counts(\"zipcode\")\n",
    "# cannot base our recommendation on this count since absolute values, strongly influenced by total number of houses in those zip codes"
   ]
  },
  {
   "cell_type": "code",
   "execution_count": null,
   "metadata": {},
   "outputs": [],
   "source": [
    "# import plotly.graph_objects as go\n",
    "\n",
    "# #df = pd.read_csv(\"data_group_work/airports.csv\")\n",
    "\n",
    "# #namelist = [f'IATA: {df[\"iata\"][x]}<br>Name: {df[\"name\"][x]}<br>State: {df[\"state\"][x]}' for x in range(len(df))] # We need this later for the 'text'-argument in go.Scattergeo() to make the labels look nicer.\n",
    "\n",
    "# fig = go.Figure(\n",
    "\n",
    "# go.Scattergeo(\n",
    "#         locationmode = 'USA-states', \n",
    "#         lon = df_housing['long'],\n",
    "#         lat = df_housing['lat'],\n",
    "# #        text = namelist,\n",
    "#         mode = 'markers',\n",
    "#         marker = dict( # controls the points\n",
    "#             size = 2,\n",
    "#             color = 'red',\n",
    "#             opacity = 1\n",
    "#         )\n",
    "#     ))\n",
    "\n",
    "#fig.add_trace() add county/zip bordrs as trace\n",
    "\n",
    "# fig.update_layout(\n",
    "#          title_text = 'Houses sold',\n",
    "#          showlegend = False,\n",
    "#          margin={\"r\":0,\"t\":50,\"l\":0,\"b\":0},\n",
    "#          geo = dict(\n",
    "#              scope = 'usa',\n",
    "#              landcolor = 'rgb(217, 217, 217)'\n",
    "#          )\n",
    "#      )\n",
    "\n",
    "# fig.update_geos(fitbounds='locations')\n",
    "\n",
    "# fig.show()"
   ]
  },
  {
   "cell_type": "code",
   "execution_count": null,
   "metadata": {},
   "outputs": [],
   "source": [
    "df_housing.groupby('zipcode').count().reset_index().sort_values('id', ascending=False)"
   ]
  },
  {
   "cell_type": "code",
   "execution_count": null,
   "metadata": {},
   "outputs": [],
   "source": [
    "import plotly.express as px\n",
    "from urllib.request import urlopen\n",
    "import json\n",
    "with urlopen('https://raw.githubusercontent.com/OpenDataDE/State-zip-code-GeoJSON/master/wa_washington_zip_codes_geo.min.json') as response:\n",
    "#with urlopen('http://data-seattlecitygis.opendata.arcgis.com/datasets/83fc2e72903343aabff6de8cb445b81c_2.geojson') as response:\n",
    "# data from https://catalog.data.gov/dataset/zip-codes-2259a\n",
    "# data/Zip_Codes.geojson\n",
    "#with urlopen('https://data-seattlecitygis.opendata.arcgis.com/datasets/SeattleCityGIS::zip-codes.geojson?outSR=%7B%22latestWkid%22%3A2926%2C%22wkid%22%3A2926%7D') as response:\n",
    "    zipcodes = json.load(response)\n",
    "fig = px.choropleth(df_housing.groupby('zipcode').count().reset_index(),\n",
    "                    geojson=zipcodes, \n",
    "                    locations='zipcode', \n",
    "                    color='id',\n",
    "                    color_continuous_scale=\"bluyl\",#\"Viridis_r\",\n",
    "#                    range_color=(3.5,5),\n",
    "                    featureidkey=\"properties.ZCTA5CE10\",\n",
    "                    scope=\"usa\",\n",
    "                    labels={'id':'Number of Houses Sold'}\n",
    "                          )\n",
    "\n",
    "fig.update_layout(\n",
    "    title = dict(text='Houses Sold', y=0.9, yanchor='top'),\n",
    "    margin={\"r\":50,\"t\":50,\"l\":50,\"b\":50}\n",
    "    )\n",
    "fig.update_geos(fitbounds='locations')\n",
    "fig.show()"
   ]
  },
  {
   "cell_type": "code",
   "execution_count": null,
   "metadata": {},
   "outputs": [],
   "source": [
    "import plotly.express as px\n",
    "from urllib.request import urlopen\n",
    "import json\n",
    "with urlopen('https://raw.githubusercontent.com/OpenDataDE/State-zip-code-GeoJSON/master/wa_washington_zip_codes_geo.min.json') as response:\n",
    "#with urlopen('http://data-seattlecitygis.opendata.arcgis.com/datasets/83fc2e72903343aabff6de8cb445b81c_2.geojson') as response:\n",
    "# data from https://catalog.data.gov/dataset/zip-codes-2259a\n",
    "# data/Zip_Codes.geojson\n",
    "#with urlopen('https://data-seattlecitygis.opendata.arcgis.com/datasets/SeattleCityGIS::zip-codes.geojson?outSR=%7B%22latestWkid%22%3A2926%2C%22wkid%22%3A2926%7D') as response:\n",
    "    zipcodes = json.load(response)\n",
    "fig = px.choropleth(df_Larry_rec,\n",
    "                    geojson=zipcodes, \n",
    "                    locations='zipcode', \n",
    "                    color='wish_points_rel2',\n",
    "                    color_continuous_scale=\"bluyl\",#\"Viridis_r\",\n",
    "                    range_color=(3.5,5),\n",
    "                    featureidkey=\"properties.ZCTA5CE10\",\n",
    "                    scope=\"usa\",\n",
    "                    labels={'wish_points_rel2':'Wish Points'}\n",
    "                          )\n",
    "\n",
    "fig.update_layout(\n",
    "    title = dict(text='Recommended Zipcodes for Larry', y=0.9, yanchor='top'),\n",
    "    margin={\"r\":50,\"t\":50,\"l\":50,\"b\":50}\n",
    "    )\n",
    "fig.update_geos(fitbounds='locations')\n",
    "fig.show()"
   ]
  }
 ],
 "metadata": {
  "kernelspec": {
   "display_name": ".venv",
   "language": "python",
   "name": "python3"
  },
  "language_info": {
   "codemirror_mode": {
    "name": "ipython",
    "version": 3
   },
   "file_extension": ".py",
   "mimetype": "text/x-python",
   "name": "python",
   "nbconvert_exporter": "python",
   "pygments_lexer": "ipython3",
   "version": "3.9.8"
  },
  "orig_nbformat": 4
 },
 "nbformat": 4,
 "nbformat_minor": 2
}
