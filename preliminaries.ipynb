{
 "cells": [
  {
   "cell_type": "code",
   "execution_count": 28,
   "metadata": {},
   "outputs": [],
   "source": [
    "import pandas as pd\n",
    "import numpy as np\n",
    "import matplotlib.pyplot as plt\n",
    "import seaborn as sns\n",
    "import missingno as msno"
   ]
  },
  {
   "cell_type": "code",
   "execution_count": 29,
   "metadata": {},
   "outputs": [],
   "source": [
    "# from http://www.usa.com/rank/king-county-wa--population-density--zip-code-rank.htm?yr=9000&dis=&wist=&plow=&phigh=\n",
    "\n",
    "df_pop_density = pd.read_csv('data/King_County_Population_Density.csv', sep = '\\t')"
   ]
  },
  {
   "cell_type": "code",
   "execution_count": 30,
   "metadata": {},
   "outputs": [
    {
     "data": {
      "text/html": [
       "<div>\n",
       "<style scoped>\n",
       "    .dataframe tbody tr th:only-of-type {\n",
       "        vertical-align: middle;\n",
       "    }\n",
       "\n",
       "    .dataframe tbody tr th {\n",
       "        vertical-align: top;\n",
       "    }\n",
       "\n",
       "    .dataframe thead th {\n",
       "        text-align: right;\n",
       "    }\n",
       "</style>\n",
       "<table border=\"1\" class=\"dataframe\">\n",
       "  <thead>\n",
       "    <tr style=\"text-align: right;\">\n",
       "      <th></th>\n",
       "      <th>rank</th>\n",
       "      <th>population_density</th>\n",
       "      <th>zip/population</th>\n",
       "    </tr>\n",
       "  </thead>\n",
       "  <tbody>\n",
       "    <tr>\n",
       "      <th>0</th>\n",
       "      <td>1.0</td>\n",
       "      <td>20,629.5/sq mi</td>\n",
       "      <td>98164 / 73</td>\n",
       "    </tr>\n",
       "    <tr>\n",
       "      <th>1</th>\n",
       "      <td>2.0</td>\n",
       "      <td>20,391.4/sq mi</td>\n",
       "      <td>98174 / 72</td>\n",
       "    </tr>\n",
       "    <tr>\n",
       "      <th>2</th>\n",
       "      <td>3.0</td>\n",
       "      <td>19,576.7/sq mi</td>\n",
       "      <td>98121 / 12,753</td>\n",
       "    </tr>\n",
       "    <tr>\n",
       "      <th>3</th>\n",
       "      <td>4.0</td>\n",
       "      <td>17,315.9/sq mi</td>\n",
       "      <td>98101 / 10,803</td>\n",
       "    </tr>\n",
       "    <tr>\n",
       "      <th>4</th>\n",
       "      <td>5.0</td>\n",
       "      <td>15,103.1/sq mi</td>\n",
       "      <td>98104 / 13,177</td>\n",
       "    </tr>\n",
       "  </tbody>\n",
       "</table>\n",
       "</div>"
      ],
      "text/plain": [
       "   rank population_density  zip/population\n",
       "0   1.0     20,629.5/sq mi      98164 / 73\n",
       "1   2.0     20,391.4/sq mi      98174 / 72\n",
       "2   3.0     19,576.7/sq mi  98121 / 12,753\n",
       "3   4.0     17,315.9/sq mi  98101 / 10,803\n",
       "4   5.0     15,103.1/sq mi  98104 / 13,177"
      ]
     },
     "execution_count": 30,
     "metadata": {},
     "output_type": "execute_result"
    }
   ],
   "source": [
    "df_pop_density.head()"
   ]
  },
  {
   "cell_type": "code",
   "execution_count": 31,
   "metadata": {},
   "outputs": [],
   "source": [
    "# split zip/population column into two columns\n",
    "df_pop_density[['zip','population']]= df_pop_density[\"zip/population\"].str.split(\"/\", expand=True)"
   ]
  },
  {
   "cell_type": "code",
   "execution_count": 32,
   "metadata": {},
   "outputs": [],
   "source": [
    "#drop combined column\n",
    "df_pop_density.drop(\"zip/population\", axis=1, inplace=True)"
   ]
  },
  {
   "cell_type": "code",
   "execution_count": 33,
   "metadata": {},
   "outputs": [],
   "source": [
    "#change data type of rank column to int\n",
    "df_pop_density = df_pop_density.astype({'rank': int})"
   ]
  },
  {
   "cell_type": "code",
   "execution_count": 34,
   "metadata": {},
   "outputs": [],
   "source": [
    "# remove comma and unit /sq mi from population density column and turn into float\n",
    "df_pop_density[\"population_density\"] = df_pop_density.population_density.str.strip('/sq mi')"
   ]
  },
  {
   "cell_type": "code",
   "execution_count": 38,
   "metadata": {},
   "outputs": [],
   "source": [
    "#remove , from string numbers and turn into float\n",
    "df_pop_density[\"population_density\"] = df_pop_density.population_density.str.replace(',', \"\").astype('float')"
   ]
  },
  {
   "cell_type": "code",
   "execution_count": 41,
   "metadata": {},
   "outputs": [],
   "source": [
    "# zip into int\n",
    "df_pop_density[\"zip\"] = df_pop_density.zip.astype('int')"
   ]
  },
  {
   "cell_type": "code",
   "execution_count": 42,
   "metadata": {},
   "outputs": [
    {
     "data": {
      "text/html": [
       "<div>\n",
       "<style scoped>\n",
       "    .dataframe tbody tr th:only-of-type {\n",
       "        vertical-align: middle;\n",
       "    }\n",
       "\n",
       "    .dataframe tbody tr th {\n",
       "        vertical-align: top;\n",
       "    }\n",
       "\n",
       "    .dataframe thead th {\n",
       "        text-align: right;\n",
       "    }\n",
       "</style>\n",
       "<table border=\"1\" class=\"dataframe\">\n",
       "  <thead>\n",
       "    <tr style=\"text-align: right;\">\n",
       "      <th></th>\n",
       "      <th>rank</th>\n",
       "      <th>population_density</th>\n",
       "      <th>zip</th>\n",
       "      <th>population</th>\n",
       "    </tr>\n",
       "  </thead>\n",
       "  <tbody>\n",
       "    <tr>\n",
       "      <th>0</th>\n",
       "      <td>1</td>\n",
       "      <td>20629.5</td>\n",
       "      <td>98164</td>\n",
       "      <td>73</td>\n",
       "    </tr>\n",
       "    <tr>\n",
       "      <th>1</th>\n",
       "      <td>2</td>\n",
       "      <td>20391.4</td>\n",
       "      <td>98174</td>\n",
       "      <td>72</td>\n",
       "    </tr>\n",
       "    <tr>\n",
       "      <th>2</th>\n",
       "      <td>3</td>\n",
       "      <td>19576.7</td>\n",
       "      <td>98121</td>\n",
       "      <td>12,753</td>\n",
       "    </tr>\n",
       "    <tr>\n",
       "      <th>3</th>\n",
       "      <td>4</td>\n",
       "      <td>17315.9</td>\n",
       "      <td>98101</td>\n",
       "      <td>10,803</td>\n",
       "    </tr>\n",
       "    <tr>\n",
       "      <th>4</th>\n",
       "      <td>5</td>\n",
       "      <td>15103.1</td>\n",
       "      <td>98104</td>\n",
       "      <td>13,177</td>\n",
       "    </tr>\n",
       "  </tbody>\n",
       "</table>\n",
       "</div>"
      ],
      "text/plain": [
       "   rank  population_density    zip population\n",
       "0     1             20629.5  98164         73\n",
       "1     2             20391.4  98174         72\n",
       "2     3             19576.7  98121     12,753\n",
       "3     4             17315.9  98101     10,803\n",
       "4     5             15103.1  98104     13,177"
      ]
     },
     "execution_count": 42,
     "metadata": {},
     "output_type": "execute_result"
    }
   ],
   "source": [
    "df_pop_density.head()"
   ]
  },
  {
   "cell_type": "code",
   "execution_count": 43,
   "metadata": {},
   "outputs": [
    {
     "name": "stdout",
     "output_type": "stream",
     "text": [
      "<class 'pandas.core.frame.DataFrame'>\n",
      "RangeIndex: 77 entries, 0 to 76\n",
      "Data columns (total 4 columns):\n",
      " #   Column              Non-Null Count  Dtype  \n",
      "---  ------              --------------  -----  \n",
      " 0   rank                77 non-null     int64  \n",
      " 1   population_density  77 non-null     float64\n",
      " 2   zip                 77 non-null     int64  \n",
      " 3   population          77 non-null     object \n",
      "dtypes: float64(1), int64(2), object(1)\n",
      "memory usage: 2.5+ KB\n"
     ]
    }
   ],
   "source": [
    "df_pop_density.info()"
   ]
  },
  {
   "cell_type": "code",
   "execution_count": 50,
   "metadata": {},
   "outputs": [
    {
     "data": {
      "text/html": [
       "<div>\n",
       "<style scoped>\n",
       "    .dataframe tbody tr th:only-of-type {\n",
       "        vertical-align: middle;\n",
       "    }\n",
       "\n",
       "    .dataframe tbody tr th {\n",
       "        vertical-align: top;\n",
       "    }\n",
       "\n",
       "    .dataframe thead th {\n",
       "        text-align: right;\n",
       "    }\n",
       "</style>\n",
       "<table border=\"1\" class=\"dataframe\">\n",
       "  <thead>\n",
       "    <tr style=\"text-align: right;\">\n",
       "      <th></th>\n",
       "      <th>rank</th>\n",
       "      <th>zip</th>\n",
       "    </tr>\n",
       "  </thead>\n",
       "  <tbody>\n",
       "    <tr>\n",
       "      <th>0</th>\n",
       "      <td>1</td>\n",
       "      <td>98164</td>\n",
       "    </tr>\n",
       "    <tr>\n",
       "      <th>1</th>\n",
       "      <td>2</td>\n",
       "      <td>98174</td>\n",
       "    </tr>\n",
       "    <tr>\n",
       "      <th>2</th>\n",
       "      <td>3</td>\n",
       "      <td>98121</td>\n",
       "    </tr>\n",
       "    <tr>\n",
       "      <th>3</th>\n",
       "      <td>4</td>\n",
       "      <td>98101</td>\n",
       "    </tr>\n",
       "    <tr>\n",
       "      <th>4</th>\n",
       "      <td>5</td>\n",
       "      <td>98104</td>\n",
       "    </tr>\n",
       "    <tr>\n",
       "      <th>...</th>\n",
       "      <td>...</td>\n",
       "      <td>...</td>\n",
       "    </tr>\n",
       "    <tr>\n",
       "      <th>72</th>\n",
       "      <td>73</td>\n",
       "      <td>98051</td>\n",
       "    </tr>\n",
       "    <tr>\n",
       "      <th>73</th>\n",
       "      <td>74</td>\n",
       "      <td>98050</td>\n",
       "    </tr>\n",
       "    <tr>\n",
       "      <th>74</th>\n",
       "      <td>75</td>\n",
       "      <td>98045</td>\n",
       "    </tr>\n",
       "    <tr>\n",
       "      <th>75</th>\n",
       "      <td>76</td>\n",
       "      <td>98224</td>\n",
       "    </tr>\n",
       "    <tr>\n",
       "      <th>76</th>\n",
       "      <td>77</td>\n",
       "      <td>98288</td>\n",
       "    </tr>\n",
       "  </tbody>\n",
       "</table>\n",
       "<p>77 rows × 2 columns</p>\n",
       "</div>"
      ],
      "text/plain": [
       "    rank    zip\n",
       "0      1  98164\n",
       "1      2  98174\n",
       "2      3  98121\n",
       "3      4  98101\n",
       "4      5  98104\n",
       "..   ...    ...\n",
       "72    73  98051\n",
       "73    74  98050\n",
       "74    75  98045\n",
       "75    76  98224\n",
       "76    77  98288\n",
       "\n",
       "[77 rows x 2 columns]"
      ]
     },
     "execution_count": 50,
     "metadata": {},
     "output_type": "execute_result"
    }
   ],
   "source": [
    "df_pop_density_short = df_pop_density.drop([\"population_density\",\"population\"], axis=1)\n",
    "df_pop_density_short"
   ]
  },
  {
   "cell_type": "code",
   "execution_count": 55,
   "metadata": {},
   "outputs": [
    {
     "data": {
      "text/plain": [
       "{98164: 1,\n",
       " 98174: 2,\n",
       " 98121: 3,\n",
       " 98101: 4,\n",
       " 98104: 5,\n",
       " 98102: 6,\n",
       " 98122: 7,\n",
       " 98109: 8,\n",
       " 98107: 9,\n",
       " 98103: 10,\n",
       " 98119: 11,\n",
       " 98117: 12,\n",
       " 98105: 13,\n",
       " 98116: 14,\n",
       " 98133: 15,\n",
       " 98007: 16,\n",
       " 98126: 17,\n",
       " 98115: 18,\n",
       " 98125: 19,\n",
       " 98144: 20,\n",
       " 98118: 21,\n",
       " 98030: 22,\n",
       " 98136: 23,\n",
       " 98031: 24,\n",
       " 98146: 25,\n",
       " 98112: 26,\n",
       " 98002: 27,\n",
       " 98055: 28,\n",
       " 98106: 29,\n",
       " 98023: 30,\n",
       " 98198: 31,\n",
       " 98155: 32,\n",
       " 98178: 33,\n",
       " 98034: 34,\n",
       " 98003: 35,\n",
       " 98011: 36,\n",
       " 98056: 37,\n",
       " 98168: 38,\n",
       " 98199: 39,\n",
       " 98004: 40,\n",
       " 98028: 41,\n",
       " 98148: 42,\n",
       " 98006: 43,\n",
       " 98033: 44,\n",
       " 98188: 45,\n",
       " 98108: 46,\n",
       " 98166: 47,\n",
       " 98008: 48,\n",
       " 98029: 49,\n",
       " 98052: 50,\n",
       " 98005: 51,\n",
       " 98058: 52,\n",
       " 98074: 53,\n",
       " 98032: 54,\n",
       " 98075: 55,\n",
       " 98057: 56,\n",
       " 98059: 57,\n",
       " 98040: 58,\n",
       " 98001: 59,\n",
       " 98042: 60,\n",
       " 98053: 61,\n",
       " 98039: 62,\n",
       " 98038: 63,\n",
       " 98027: 64,\n",
       " 98195: 65,\n",
       " 98010: 66,\n",
       " 98154: 67,\n",
       " 98024: 68,\n",
       " 98070: 69,\n",
       " 98134: 70,\n",
       " 98065: 71,\n",
       " 98014: 72,\n",
       " 98051: 73,\n",
       " 98050: 74,\n",
       " 98045: 75,\n",
       " 98224: 76,\n",
       " 98288: 77}"
      ]
     },
     "execution_count": 55,
     "metadata": {},
     "output_type": "execute_result"
    }
   ],
   "source": [
    "ranks = df_pop_density_short['rank'].tolist()\n",
    "dens_zips = df_pop_density['zip'].tolist()\n",
    "dict_pop_rk = dict(zip(dens_zips,ranks))\n",
    "dict_pop_rk"
   ]
  },
  {
   "cell_type": "code",
   "execution_count": 47,
   "metadata": {},
   "outputs": [
    {
     "data": {
      "text/plain": [
       "[98164,\n",
       " 98174,\n",
       " 98121,\n",
       " 98101,\n",
       " 98104,\n",
       " 98102,\n",
       " 98122,\n",
       " 98109,\n",
       " 98107,\n",
       " 98103,\n",
       " 98119,\n",
       " 98117,\n",
       " 98105,\n",
       " 98116,\n",
       " 98133,\n",
       " 98007,\n",
       " 98126,\n",
       " 98115,\n",
       " 98125,\n",
       " 98144,\n",
       " 98118]"
      ]
     },
     "execution_count": 47,
     "metadata": {},
     "output_type": "execute_result"
    }
   ],
   "source": [
    "dens_zips = df_pop_density['zip'][0:21].tolist()\n",
    "dens_zips"
   ]
  }
 ],
 "metadata": {
  "kernelspec": {
   "display_name": ".venv",
   "language": "python",
   "name": "python3"
  },
  "language_info": {
   "codemirror_mode": {
    "name": "ipython",
    "version": 3
   },
   "file_extension": ".py",
   "mimetype": "text/x-python",
   "name": "python",
   "nbconvert_exporter": "python",
   "pygments_lexer": "ipython3",
   "version": "3.9.8"
  },
  "orig_nbformat": 4
 },
 "nbformat": 4,
 "nbformat_minor": 2
}
